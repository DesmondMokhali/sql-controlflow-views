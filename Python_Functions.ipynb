{
 "cells": [
  {
   "cell_type": "markdown",
   "id": "8acd6697",
   "metadata": {},
   "source": [
    "# **Control Flow Functions and Views**"
   ]
  },
  {
   "cell_type": "markdown",
   "id": "804e5274",
   "metadata": {},
   "source": [
    "#### **Executive Roundtable Challenge**\n",
    "\n",
    "**Duration:** ~1 hour  \n",
    "**Assumptions:** Learners have already completed lessons on SQL `CASE`, `COALESCE`, `NULLIF`, `IF`, and SQL Views. \n",
    "\n",
    "   \n",
    "\n",
    "You’re a **Data Analyst** at a popular restaurant chain.\n",
    "\n",
    "**Today, you’re at the executive roundtable with:**  \n",
    "- The CEO  \n",
    "- The Head Chef  \n",
    "- The Marketing Director  \n",
    "- The CFO\n",
    "\n",
    "**On the table:** your laptop, the full recipe data, your analytical skills, and AI as your smart assistant.\n",
    "\n",
    "\n",
    "**Your job:** write smart SQL queries, generate insightful views, and collaborate with AI to deliver answers, not shortcuts or guesswork.\n"
   ]
  },
  {
   "cell_type": "markdown",
   "id": "9c371a9a",
   "metadata": {},
   "source": [
    "### **Learning Outcomes**\n",
    "\n",
    "**By the end of this module, students should be able to:**\n",
    "\n",
    "- Understand and use SQL control flow functions (e.g., `CASE`, `IF`, `COALESCE`, `NULLIF`) and views in practical scenarios.  \n",
    "- Apply these SQL concepts in data-rich, story-driven tasks that simulate real-world challenges.  \n",
    "- Use AI critically and ethically, not as a shortcut, but to enhance reasoning, generate ideas, and refine problem-solving approaches.  \n",
    "- Write effective, context-aware AI prompts to support coding, debugging, and explanation processes.\n",
    "\n",
    "---"
   ]
  },
  {
   "cell_type": "markdown",
   "id": "e40ba7ab",
   "metadata": {},
   "source": [
    "### **What’s AI Got To Do With It?**\n",
    "\n",
    "**AI tools (like ChatGPT or Gemini) can assist you to:**  \n",
    "- Write and debug SQL queries  \n",
    "- Explain your code and logic  \n",
    "- Provide feedback and suggestions to improve your solutions\n",
    "\n",
    "**BUT**, AI will not learn for you. Poorly crafted prompts lead to unreliable or irrelevant answers.\n",
    "\n",
    "Let’s master the art of prompting to get the best results and truly enhance your learning. 💪\n",
    "\n"
   ]
  },
  {
   "cell_type": "markdown",
   "id": "e7abc4d5",
   "metadata": {},
   "source": [
    "### **Mastering AI Prompting: Examples of Effective Prompts**\n",
    "\n",
    "Imagine you want to categorize recipes based on their preparation time.\n",
    "\n",
    "**❌ Poor Prompt:**  \n",
    "Write a SQL query with CASE.\n",
    "\n",
    "**⚠️ Improved Prompt:**  \n",
    "Write a SQL query that uses CASE to group recipes.\n",
    "\n",
    "**✅ Excellent Prompt:**  \n",
    "Write a SQL query that uses CASE to classify recipes as 'Quick' if preparation time is under 20 minutes,  \n",
    "'Moderate' if between 20 and 45 minutes, and 'Long' if over 45 minutes.\n",
    "\n",
    "### Why this works:\n",
    "\n",
    "- Provides clear context by specifying the dataset and column (recipes and preparation time)  \n",
    "- Defines explicit conditions and meaningful categories  \n",
    "- Specifies the expected output format, guiding precise query construction\n",
    "\n",
    "---"
   ]
  },
  {
   "cell_type": "markdown",
   "id": "69080aea",
   "metadata": {},
   "source": [
    "### 📂 **Dataset Overview**\n",
    "\n",
    "We’re using the **Food.com Recipes Dataset**, sourced from Kaggle:  \n",
    "**Source:** [Food.com Recipes and User Interactions – Kaggle](https://www.kaggle.com/datasets/shuyangli94/food-com-recipes-and-user-interactions)\n",
    "\n",
    "**Format:** CSV\n",
    "\n",
    "### 🔑 Key Columns:\n",
    "\n",
    "- **RecipeId:** Unique recipe identifier  \n",
    "- **Name:** Recipe name  \n",
    "- **AuthorId / AuthorName:** Creator information  \n",
    "- **CookTime, PrepTime, TotalTime:** Time details (in minutes)  \n",
    "- **DatePublished:** Publication date  \n",
    "- **Description:** Short description of the recipe  \n",
    "- **RecipeCategory / Keywords:** Tags and category labels (e.g., vegan, dessert)  \n",
    "- **RecipeIngredientQuantities / RecipeIngredientParts:** Ingredients and their quantities  \n",
    "- **AggregatedRating:** Average rating score  \n",
    "- **ReviewCount:** Number of reviews (popularity proxy)  \n",
    "- **Calories, FatContent, SaturatedFatContent, CholesterolContent, SodiumContent, CarbohydrateContent, FiberContent, SugarContent, ProteinContent:** Nutritional information  \n",
    "- **RecipeServings / RecipeYield:** Portion sizes  \n",
    "- **RecipeInstructions:** Step-by-step cooking instructions\n",
    "\n",
    "For full field definitions and dataset details, refer to the Kaggle dataset page linked above.\n",
    "\n",
    "### 🔧 **Data Preparation**\n",
    "\n",
    "For this module, we have randomly selected **100 recipes** from the full dataset to keep the workload manageable and focused on a diverse, practical subset.\n",
    "\n",
    "This sample maintains a rich variety of recipes for effective learning while ensuring efficient processing in SQL queries and notebook operations.\n",
    "\n"
   ]
  },
  {
   "cell_type": "markdown",
   "id": "19a7aa63",
   "metadata": {},
   "source": [
    "### **Loading and Inspecting the Famous Recipes Dataset**"
   ]
  },
  {
   "cell_type": "markdown",
   "id": "d9383e6d",
   "metadata": {},
   "source": [
    "https://drive.google.com/file/d/1WxwDmc_GtBGlobm0yKx9wrGbo95G28x9/view?usp=sharing"
   ]
  },
  {
   "cell_type": "code",
   "execution_count": 6,
   "id": "be21ce24",
   "metadata": {},
   "outputs": [
    {
     "name": "stdout",
     "output_type": "stream",
     "text": [
      "✅ Dataset loaded into SQL with 100 rows.\n"
     ]
    }
   ],
   "source": [
    "# --------------------\n",
    "# 1️⃣ Load dataset ONCE\n",
    "# --------------------\n",
    "import pandas as pd\n",
    "import sqlite3\n",
    "\n",
    "# Create in-memory SQLite DB\n",
    "conn = sqlite3.connect(\":memory:\")\n",
    "\n",
    "# Load CSV into Pandas\n",
    "df = pd.read_csv(\"famous_recipes_100.csv\")\n",
    "\n",
    "# Store DataFrame into SQL (same connection)\n",
    "df.to_sql(\"Recipes\", conn, index=False, if_exists=\"replace\")\n",
    "\n",
    "print(f\"✅ Dataset loaded into SQL with {len(df)} rows.\")"
   ]
  },
  {
   "cell_type": "code",
   "execution_count": 7,
   "id": "69376a9a",
   "metadata": {},
   "outputs": [
    {
     "name": "stdout",
     "output_type": "stream",
     "text": [
      "Dataset loaded with 100 rows and 27 columns.\n",
      "\n"
     ]
    },
    {
     "data": {
      "text/html": [
       "<div>\n",
       "<style scoped>\n",
       "    .dataframe tbody tr th:only-of-type {\n",
       "        vertical-align: middle;\n",
       "    }\n",
       "\n",
       "    .dataframe tbody tr th {\n",
       "        vertical-align: top;\n",
       "    }\n",
       "\n",
       "    .dataframe thead th {\n",
       "        text-align: right;\n",
       "    }\n",
       "</style>\n",
       "<table border=\"1\" class=\"dataframe\">\n",
       "  <thead>\n",
       "    <tr style=\"text-align: right;\">\n",
       "      <th></th>\n",
       "      <th>RecipeId</th>\n",
       "      <th>Name</th>\n",
       "      <th>AuthorId</th>\n",
       "      <th>AuthorName</th>\n",
       "      <th>CookTime</th>\n",
       "      <th>PrepTime</th>\n",
       "      <th>TotalTime</th>\n",
       "      <th>DatePublished</th>\n",
       "      <th>Description</th>\n",
       "      <th>RecipeCategory</th>\n",
       "      <th>...</th>\n",
       "      <th>SaturatedFatContent</th>\n",
       "      <th>CholesterolContent</th>\n",
       "      <th>SodiumContent</th>\n",
       "      <th>CarbohydrateContent</th>\n",
       "      <th>FiberContent</th>\n",
       "      <th>SugarContent</th>\n",
       "      <th>ProteinContent</th>\n",
       "      <th>RecipeServings</th>\n",
       "      <th>RecipeYield</th>\n",
       "      <th>RecipeInstructions</th>\n",
       "    </tr>\n",
       "  </thead>\n",
       "  <tbody>\n",
       "    <tr>\n",
       "      <th>0</th>\n",
       "      <td>373686</td>\n",
       "      <td>Picnic Cowboy Caviar</td>\n",
       "      <td>798690</td>\n",
       "      <td>Amy BC</td>\n",
       "      <td>60.0</td>\n",
       "      <td>20</td>\n",
       "      <td>80</td>\n",
       "      <td>2009-05-22T02:13:00Z</td>\n",
       "      <td>Make and share this Picnic Cowboy Caviar recip...</td>\n",
       "      <td>Black Beans</td>\n",
       "      <td>...</td>\n",
       "      <td>2.6</td>\n",
       "      <td>0.0</td>\n",
       "      <td>612.9</td>\n",
       "      <td>39.3</td>\n",
       "      <td>12.3</td>\n",
       "      <td>4.1</td>\n",
       "      <td>11.0</td>\n",
       "      <td>8.0</td>\n",
       "      <td>NaN</td>\n",
       "      <td>c(\"Mix the dressing ingredients together.\", \"T...</td>\n",
       "    </tr>\n",
       "    <tr>\n",
       "      <th>1</th>\n",
       "      <td>406657</td>\n",
       "      <td>Turkey Schnitzel With Tots &amp;amp; Apple-Cranber...</td>\n",
       "      <td>601277</td>\n",
       "      <td>hungrykitten</td>\n",
       "      <td>25.0</td>\n",
       "      <td>15</td>\n",
       "      <td>40</td>\n",
       "      <td>2010-01-04T08:06:00Z</td>\n",
       "      <td>Make and share this Turkey Schnitzel With Tots...</td>\n",
       "      <td>Poultry</td>\n",
       "      <td>...</td>\n",
       "      <td>1.4</td>\n",
       "      <td>105.8</td>\n",
       "      <td>342.9</td>\n",
       "      <td>85.1</td>\n",
       "      <td>9.8</td>\n",
       "      <td>24.7</td>\n",
       "      <td>12.2</td>\n",
       "      <td>4.0</td>\n",
       "      <td>NaN</td>\n",
       "      <td>c(\"Bake the potatoes according to package dire...</td>\n",
       "    </tr>\n",
       "    <tr>\n",
       "      <th>2</th>\n",
       "      <td>457811</td>\n",
       "      <td>Banilla Splash</td>\n",
       "      <td>169430</td>\n",
       "      <td>Annacia</td>\n",
       "      <td>NaN</td>\n",
       "      <td>3</td>\n",
       "      <td>3</td>\n",
       "      <td>2011-06-02T15:59:00Z</td>\n",
       "      <td>Make and share this Banilla Splash recipe from...</td>\n",
       "      <td>Beverages</td>\n",
       "      <td>...</td>\n",
       "      <td>0.0</td>\n",
       "      <td>0.0</td>\n",
       "      <td>2.5</td>\n",
       "      <td>20.2</td>\n",
       "      <td>0.3</td>\n",
       "      <td>16.7</td>\n",
       "      <td>0.9</td>\n",
       "      <td>1.0</td>\n",
       "      <td>NaN</td>\n",
       "      <td>c(\"Add all ingredients to a hurricane glass fi...</td>\n",
       "    </tr>\n",
       "    <tr>\n",
       "      <th>3</th>\n",
       "      <td>112556</td>\n",
       "      <td>Easy Tomato Tortilla Soup</td>\n",
       "      <td>2310</td>\n",
       "      <td>Geema</td>\n",
       "      <td>10.0</td>\n",
       "      <td>5</td>\n",
       "      <td>15</td>\n",
       "      <td>2005-03-03T19:59:00Z</td>\n",
       "      <td>I am looking forward to trying this super simp...</td>\n",
       "      <td>Beans</td>\n",
       "      <td>...</td>\n",
       "      <td>0.1</td>\n",
       "      <td>0.0</td>\n",
       "      <td>1900.8</td>\n",
       "      <td>42.7</td>\n",
       "      <td>11.2</td>\n",
       "      <td>0.4</td>\n",
       "      <td>11.6</td>\n",
       "      <td>4.0</td>\n",
       "      <td>NaN</td>\n",
       "      <td>c(\"Place beans and tomatoes in a blender and p...</td>\n",
       "    </tr>\n",
       "    <tr>\n",
       "      <th>4</th>\n",
       "      <td>93</td>\n",
       "      <td>Blue Stuffed Mushrooms</td>\n",
       "      <td>1533</td>\n",
       "      <td>Dancer</td>\n",
       "      <td>NaN</td>\n",
       "      <td>15</td>\n",
       "      <td>15</td>\n",
       "      <td>1999-08-12T06:42:00Z</td>\n",
       "      <td>Make and share this Blue Stuffed Mushrooms rec...</td>\n",
       "      <td>Free Of...</td>\n",
       "      <td>...</td>\n",
       "      <td>12.1</td>\n",
       "      <td>53.8</td>\n",
       "      <td>482.8</td>\n",
       "      <td>3.5</td>\n",
       "      <td>0.9</td>\n",
       "      <td>1.0</td>\n",
       "      <td>9.9</td>\n",
       "      <td>4.0</td>\n",
       "      <td>NaN</td>\n",
       "      <td>c(\"In a medium bowl, combine the blue cheese a...</td>\n",
       "    </tr>\n",
       "  </tbody>\n",
       "</table>\n",
       "<p>5 rows × 27 columns</p>\n",
       "</div>"
      ],
      "text/plain": [
       "   RecipeId                                               Name  AuthorId  \\\n",
       "0    373686                               Picnic Cowboy Caviar    798690   \n",
       "1    406657  Turkey Schnitzel With Tots &amp; Apple-Cranber...    601277   \n",
       "2    457811                                     Banilla Splash    169430   \n",
       "3    112556                          Easy Tomato Tortilla Soup      2310   \n",
       "4        93                             Blue Stuffed Mushrooms      1533   \n",
       "\n",
       "     AuthorName  CookTime  PrepTime  TotalTime         DatePublished  \\\n",
       "0        Amy BC      60.0        20         80  2009-05-22T02:13:00Z   \n",
       "1  hungrykitten      25.0        15         40  2010-01-04T08:06:00Z   \n",
       "2       Annacia       NaN         3          3  2011-06-02T15:59:00Z   \n",
       "3         Geema      10.0         5         15  2005-03-03T19:59:00Z   \n",
       "4        Dancer       NaN        15         15  1999-08-12T06:42:00Z   \n",
       "\n",
       "                                         Description RecipeCategory  ...  \\\n",
       "0  Make and share this Picnic Cowboy Caviar recip...    Black Beans  ...   \n",
       "1  Make and share this Turkey Schnitzel With Tots...        Poultry  ...   \n",
       "2  Make and share this Banilla Splash recipe from...      Beverages  ...   \n",
       "3  I am looking forward to trying this super simp...          Beans  ...   \n",
       "4  Make and share this Blue Stuffed Mushrooms rec...     Free Of...  ...   \n",
       "\n",
       "  SaturatedFatContent CholesterolContent SodiumContent  CarbohydrateContent  \\\n",
       "0                 2.6                0.0         612.9                 39.3   \n",
       "1                 1.4              105.8         342.9                 85.1   \n",
       "2                 0.0                0.0           2.5                 20.2   \n",
       "3                 0.1                0.0        1900.8                 42.7   \n",
       "4                12.1               53.8         482.8                  3.5   \n",
       "\n",
       "   FiberContent  SugarContent  ProteinContent  RecipeServings  RecipeYield  \\\n",
       "0          12.3           4.1            11.0             8.0          NaN   \n",
       "1           9.8          24.7            12.2             4.0          NaN   \n",
       "2           0.3          16.7             0.9             1.0          NaN   \n",
       "3          11.2           0.4            11.6             4.0          NaN   \n",
       "4           0.9           1.0             9.9             4.0          NaN   \n",
       "\n",
       "                                  RecipeInstructions  \n",
       "0  c(\"Mix the dressing ingredients together.\", \"T...  \n",
       "1  c(\"Bake the potatoes according to package dire...  \n",
       "2  c(\"Add all ingredients to a hurricane glass fi...  \n",
       "3  c(\"Place beans and tomatoes in a blender and p...  \n",
       "4  c(\"In a medium bowl, combine the blue cheese a...  \n",
       "\n",
       "[5 rows x 27 columns]"
      ]
     },
     "execution_count": 7,
     "metadata": {},
     "output_type": "execute_result"
    }
   ],
   "source": [
    "import pandas as pd\n",
    "\n",
    "# Load the sample dataset (make sure the file is in the same folder as this notebook)\n",
    "df = pd.read_csv(\"famous_recipes_100.csv\")\n",
    "\n",
    "# Show basic info and first few rows to confirm load\n",
    "print(f\"Dataset loaded with {len(df)} rows and {len(df.columns)} columns.\\n\")\n",
    "df.head()\n",
    "\n"
   ]
  },
  {
   "cell_type": "markdown",
   "id": "bc7524e8",
   "metadata": {},
   "source": [
    "With the data loaded, we’ll now apply SQL control flow and views to categorize and explore these recipes efficiently."
   ]
  },
  {
   "cell_type": "markdown",
   "id": "923350bc",
   "metadata": {},
   "source": [
    "---"
   ]
  },
  {
   "cell_type": "markdown",
   "id": "133fe7ce",
   "metadata": {},
   "source": [
    "# **Question 1**\n",
    "\n"
   ]
  },
  {
   "cell_type": "markdown",
   "id": "4d6a6fb7",
   "metadata": {},
   "source": [
    "**Lesson:** SQL Control Flow Functions (CASE Statement Basics)\n",
    "\n",
    "You’re tasked with classifying recipes from the **Breakfast** and **Beverages** categories.  \n",
    "Because drinks typically take less time to prepare than food, your execs want **different prep time categories** for each:\n",
    "\n",
    "- For **Breakfast recipes**:\n",
    "  - **Quick:** under 30 minutes  \n",
    "  - **Moderate:** 30 to 60 minutes  \n",
    "  - **Long:** over 60 minutes  \n",
    "\n",
    "- For **Beverages**:\n",
    "  - **Quick:** under 10 minutes  \n",
    "  - **Moderate:** 10 to 20 minutes  \n",
    "  - **Long:** over 20 minutes  \n",
    "\n",
    "### **Task 1**\n",
    "**Write a SQL query that:**\n",
    "\n",
    "1. Filters recipes to only those in the categories **Breakfast** and **Beverages**.  \n",
    "2. Uses a `CASE` statement to classify recipes into the correct prep categories based on their category-specific thresholds.  \n",
    "3. Shows the **top 5 recipes for each category (Breakfast Quick, Breakfast Moderate, Breakfast Long, Beverage Quick, Beverage Moderate, Beverage Long)** ordered by `TotalTime` descending.  \n",
    "4. Returns columns: `Name`, `TotalTime`, `PrepCategory`, and `RecipeCategory`.\n",
    "\n",
    "#### **Draft your AI prompt to generate this query**\n",
    "\n",
    "- Clearly specify the dataset and relevant columns: `Name`, `TotalTime`, and `RecipeCategory`.  \n",
    "- Define the category-specific prep time thresholds explicitly.  \n",
    "- Specify that the query should filter for Breakfast and Beverages only.  \n",
    "- Explain the need to rank and limit the results to top 5 per category/prep level combination.  \n",
    "- Mention the expected output columns.\n",
    "\n",
    "*Use your favorite AI tool ([ChatGPT](https://chat.openai.com), [Claude](https://claude.ai), etc.) to craft the SQL query from this prompt.*\n",
    "\n",
    "\n",
    "#### **(I) Paste your AI prompt below, then run your AI tool externally.**"
   ]
  },
  {
   "cell_type": "code",
   "execution_count": 8,
   "id": "f332eeb3",
   "metadata": {},
   "outputs": [
    {
     "data": {
      "application/vnd.jupyter.widget-view+json": {
       "model_id": "b283d4f4aebd4431b3aca057bbcb3c2f",
       "version_major": 2,
       "version_minor": 0
      },
      "text/plain": [
       "Textarea(value='', description='AI Prompt:', layout=Layout(height='120px', width='100%'), placeholder='Enter y…"
      ]
     },
     "metadata": {},
     "output_type": "display_data"
    },
    {
     "data": {
      "application/vnd.jupyter.widget-view+json": {
       "model_id": "80015622b2a248e99ab111561275a9d2",
       "version_major": 2,
       "version_minor": 0
      },
      "text/plain": [
       "Output()"
      ]
     },
     "metadata": {},
     "output_type": "display_data"
    },
    {
     "data": {
      "application/vnd.jupyter.widget-view+json": {
       "model_id": "5a1141b9379a4565812262f4b97b521b",
       "version_major": 2,
       "version_minor": 0
      },
      "text/plain": [
       "Button(button_style='success', description='Prompt Entered ✓', style=ButtonStyle())"
      ]
     },
     "metadata": {},
     "output_type": "display_data"
    }
   ],
   "source": [
    "from IPython.display import display, Markdown, clear_output\n",
    "import ipywidgets as widgets\n",
    "\n",
    "# Textarea for AI prompt input\n",
    "ai_prompt_input = widgets.Textarea(\n",
    "    value='',\n",
    "    placeholder='Enter your AI prompt here...',\n",
    "    description='AI Prompt:',\n",
    "    layout=widgets.Layout(width='100%', height='120px')\n",
    ")\n",
    "display(ai_prompt_input)\n",
    "\n",
    "# Feedback output area for prompt validation\n",
    "prompt_feedback = widgets.Output()\n",
    "display(prompt_feedback)\n",
    "\n",
    "# Button to acknowledge prompt submission\n",
    "submit_prompt_button = widgets.Button(description=\"Prompt Entered ✓\", button_style='success')\n",
    "\n",
    "def on_submit_prompt_clicked(b):\n",
    "    with prompt_feedback:\n",
    "        clear_output()\n",
    "        prompt = ai_prompt_input.value.strip()\n",
    "        if not prompt:\n",
    "            print(\"⚠️ Please enter your AI prompt before submitting.\")\n",
    "        elif len(prompt) < 150:\n",
    "            print(\"⚠️ Your prompt is too short to be effective. Try adding more detail.\")\n",
    "        else:\n",
    "            print(\"✅ Prompt looks good! Now run it with your AI tool externally and get the SQL query.\")\n",
    "            \n",
    "submit_prompt_button.on_click(on_submit_prompt_clicked)\n",
    "display(submit_prompt_button)\n"
   ]
  },
  {
   "cell_type": "markdown",
   "id": "45830f3c",
   "metadata": {},
   "source": [
    "#### **(II) Paste the AI-generated SQL query below to continue.**\n"
   ]
  },
  {
   "cell_type": "code",
   "execution_count": 9,
   "id": "1ffdac12",
   "metadata": {},
   "outputs": [
    {
     "data": {
      "application/vnd.jupyter.widget-view+json": {
       "model_id": "f0bc6f9d825d4fa5a7d372e202691281",
       "version_major": 2,
       "version_minor": 0
      },
      "text/plain": [
       "ToggleButton(value=False, button_style='info', description='Show Expected Results', icon='eye', tooltip='Click…"
      ]
     },
     "metadata": {},
     "output_type": "display_data"
    },
    {
     "data": {
      "application/vnd.jupyter.widget-view+json": {
       "model_id": "eda96aed83674fe1b4a97a9ea790f4e1",
       "version_major": 2,
       "version_minor": 0
      },
      "text/plain": [
       "Output()"
      ]
     },
     "metadata": {},
     "output_type": "display_data"
    },
    {
     "data": {
      "application/vnd.jupyter.widget-view+json": {
       "model_id": "7286166a9b134880a23105dcab34ed45",
       "version_major": 2,
       "version_minor": 0
      },
      "text/plain": [
       "Textarea(value='', description='SQL Query:', layout=Layout(height='120px', width='100%'), placeholder='Paste y…"
      ]
     },
     "metadata": {},
     "output_type": "display_data"
    },
    {
     "data": {
      "application/vnd.jupyter.widget-view+json": {
       "model_id": "31c1276a863344a0af0c5d8bf9878a10",
       "version_major": 2,
       "version_minor": 0
      },
      "text/plain": [
       "Button(button_style='success', description='Run Query', style=ButtonStyle())"
      ]
     },
     "metadata": {},
     "output_type": "display_data"
    },
    {
     "data": {
      "application/vnd.jupyter.widget-view+json": {
       "model_id": "4a9f6eb4acfc4d979a045dd737fc19fa",
       "version_major": 2,
       "version_minor": 0
      },
      "text/plain": [
       "Output()"
      ]
     },
     "metadata": {},
     "output_type": "display_data"
    },
    {
     "data": {
      "application/vnd.jupyter.widget-view+json": {
       "model_id": "12c10556bc3847608b9e57aea1b2c6f7",
       "version_major": 2,
       "version_minor": 0
      },
      "text/plain": [
       "Textarea(value='', description='Your Explanation:', layout=Layout(height='100px', width='100%'), placeholder='…"
      ]
     },
     "metadata": {},
     "output_type": "display_data"
    },
    {
     "data": {
      "application/vnd.jupyter.widget-view+json": {
       "model_id": "1b72f7b5056f4040915dee50d83826ec",
       "version_major": 2,
       "version_minor": 0
      },
      "text/plain": [
       "Button(button_style='primary', description='Submit Explanation', style=ButtonStyle())"
      ]
     },
     "metadata": {},
     "output_type": "display_data"
    },
    {
     "data": {
      "application/vnd.jupyter.widget-view+json": {
       "model_id": "8586764d91a54b579a3e062ced9d294a",
       "version_major": 2,
       "version_minor": 0
      },
      "text/plain": [
       "Output()"
      ]
     },
     "metadata": {},
     "output_type": "display_data"
    }
   ],
   "source": [
    "import pandas as pd\n",
    "from IPython.display import display, Markdown, clear_output\n",
    "import ipywidgets as widgets\n",
    "import sqlite3\n",
    "\n",
    "# Load your dataset\n",
    "df = pd.read_csv('famous_recipes_100.csv')\n",
    "\n",
    "# Prepare an in-memory SQLite database with the data\n",
    "conn = sqlite3.connect(':memory:')\n",
    "df.to_sql('recipes', conn, index=False, if_exists='replace')\n",
    "\n",
    "# Expected results markdown text\n",
    "expected_results_md = \"\"\"\n",
    "### Expected Results Sample\n",
    "\n",
    "| Name                   | TotalTime | PrepCategory | RecipeCategory |\n",
    "|------------------------|-----------|--------------|----------------|\n",
    "| Breakfast Casserole    | 65        | Long         | Breakfast      |\n",
    "| Pancakes               | 45        | Moderate     | Breakfast      |\n",
    "| Avocado Toast          | 20        | Quick        | Breakfast      |\n",
    "| Fresh Orange Juice     | 15        | Moderate     | Beverages      |\n",
    "| Banana Smoothie        | 8         | Quick        | Beverages      |\n",
    "| Herbal Tea             | 25        | Long         | Beverages      |\n",
    "\n",
    "\n",
    "\n",
    "*Your query should categorize recipes by `TotalTime` into `PrepCategory` as 'Quick' (<20), 'Moderate' (20-45), 'Long' (>45)*\n",
    "\"\"\"\n",
    "\n",
    "# Widget to toggle expected results\n",
    "toggle_button = widgets.ToggleButton(\n",
    "    value=False,\n",
    "    description='Show Expected Results',\n",
    "    button_style='info',\n",
    "    tooltip='Click to show/hide expected results',\n",
    "    icon='eye'\n",
    ")\n",
    "\n",
    "expected_results_output = widgets.Output()\n",
    "\n",
    "def on_toggle_change(change):\n",
    "    expected_results_output.clear_output()\n",
    "    if change['new']:\n",
    "        toggle_button.description = 'Hide Expected Results'\n",
    "        with expected_results_output:\n",
    "            display(Markdown(expected_results_md))\n",
    "    else:\n",
    "        toggle_button.description = 'Show Expected Results'\n",
    "\n",
    "toggle_button.observe(on_toggle_change, names='value')\n",
    "\n",
    "# SQL input widgets\n",
    "query_input = widgets.Textarea(\n",
    "    value='',\n",
    "    placeholder='Paste your AI-generated SQL query here...',\n",
    "    description='SQL Query:',\n",
    "    layout=widgets.Layout(width='100%', height='120px')\n",
    ")\n",
    "\n",
    "run_button = widgets.Button(description='Run Query', button_style='success')\n",
    "output = widgets.Output()\n",
    "\n",
    "def on_run_button_clicked(b):\n",
    "    with output:\n",
    "        clear_output()\n",
    "        query = query_input.value.strip()\n",
    "        if not query:\n",
    "            print(\"⚠️ Please enter your SQL query before submitting.\")\n",
    "            return\n",
    "        if len(query) < 20:\n",
    "            print(\"⚠️ Your SQL query seems too short. Please double-check your prompt or code.\")\n",
    "            return\n",
    "        try:\n",
    "            result = pd.read_sql_query(query, conn)\n",
    "            display(result)\n",
    "        except Exception as e:\n",
    "            print(f\"❌ SQL Error: {e}\")\n",
    "\n",
    "run_button.on_click(on_run_button_clicked)\n",
    "\n",
    "# Explanation text area\n",
    "explanation_input = widgets.Textarea(\n",
    "    value='',\n",
    "    placeholder='Write your explanation or reasoning for your SQL query here...',\n",
    "    description='Your Explanation:',\n",
    "    layout=widgets.Layout(width='100%', height='100px')\n",
    ")\n",
    "\n",
    "submit_explanation_btn = widgets.Button(description='Submit Explanation', button_style='primary')\n",
    "explanation_output = widgets.Output()\n",
    "\n",
    "def on_submit_explanation(b):\n",
    "    with explanation_output:\n",
    "        clear_output()\n",
    "        explanation = explanation_input.value.strip()\n",
    "        if not explanation:\n",
    "            print(\"⚠️ Explanation cannot be empty. Please share your reasoning.\")\n",
    "        else:\n",
    "            print(\"✅ Explanation submitted:\")\n",
    "            print(explanation)\n",
    "\n",
    "submit_explanation_btn.on_click(on_submit_explanation)\n",
    "\n",
    "# Display widgets in order\n",
    "display(\n",
    "    toggle_button, expected_results_output,\n",
    "    query_input, run_button, output,\n",
    "    explanation_input, submit_explanation_btn, explanation_output\n",
    ")\n",
    "\n"
   ]
  },
  {
   "cell_type": "markdown",
   "id": "7745f260",
   "metadata": {},
   "source": [
    "#### **Reflection:** \n",
    "\n",
    "Reflect on your experience using AI to help write and understand SQL control flow queries:\n",
    "\n",
    "- How did AI assist you in framing the SQL `CASE` statement? Did it generate exactly what you expected or did you need to refine your prompt?\n",
    "- Did you fully understand the AI-generated query? If not, how did you approach clarifying or debugging it?\n",
    "- What challenges did you face when interpreting AI output or results from your SQL query?\n",
    "- How did your understanding of conditional logic in SQL improve through interacting with AI?\n",
    "- How can you leverage AI as a learning partner effectively without becoming overly reliant on it?\n",
    "\n"
   ]
  },
  {
   "cell_type": "markdown",
   "id": "2054059a",
   "metadata": {},
   "source": [
    "### **Test Question 1**"
   ]
  },
  {
   "cell_type": "markdown",
   "id": "08e157ae",
   "metadata": {},
   "source": [
    "**What is the best staffing recommendation for the morning rush based on your query results?**\n",
    "\n",
    "**Choose the most data-driven answer:**"
   ]
  },
  {
   "cell_type": "code",
   "execution_count": 10,
   "id": "365d4813",
   "metadata": {},
   "outputs": [
    {
     "data": {
      "application/vnd.jupyter.widget-view+json": {
       "model_id": "853bdd2d4cd24f51a5ba24e7f8ff4618",
       "version_major": 2,
       "version_minor": 0
      },
      "text/plain": [
       "RadioButtons(layout=Layout(width='95%'), options=('Hire more baristas because quick-prep beverages dominate, e…"
      ]
     },
     "metadata": {},
     "output_type": "display_data"
    },
    {
     "data": {
      "application/vnd.jupyter.widget-view+json": {
       "model_id": "4f480c3867f04793a661ebe9f950afa5",
       "version_major": 2,
       "version_minor": 0
      },
      "text/plain": [
       "Output()"
      ]
     },
     "metadata": {},
     "output_type": "display_data"
    }
   ],
   "source": [
    "import ipywidgets as widgets\n",
    "from IPython.display import display, clear_output\n",
    "\n",
    "options = {\n",
    "    \"Hire more baristas because quick-prep beverages dominate, ensuring fast service during the rush.\": \n",
    "        \"✅ Correct! Quick-prep drinks mean baristas will keep the line moving efficiently.\",\n",
    "    \"Hire only chefs since breakfast dishes require moderate prep time and are the main focus.\": \n",
    "        \"❌ Not quite. While chefs are needed, ignoring baristas overlooks the high volume of quick drinks.\",\n",
    "    \"Hire a mix of baristas and chefs to handle quick drinks and more complex breakfasts efficiently.\": \n",
    "        \"✅ Excellent! This balanced approach matches the data insight and real-world kitchen needs.\",\n",
    "    \"Staffing decisions can ignore prep times since all recipes take roughly the same time to prepare.\":\n",
    "        \"❌ Incorrect. Prep times vary significantly and should influence staffing for efficiency.\"\n",
    "}\n",
    "\n",
    "radio_buttons = widgets.RadioButtons(\n",
    "    options=list(options.keys()),\n",
    "    description='',\n",
    "    layout=widgets.Layout(width='95%'),\n",
    "    style={'description_width': 'initial'}\n",
    ")\n",
    "\n",
    "feedback = widgets.Output()\n",
    "\n",
    "def on_option_change(change):\n",
    "    if change['type'] == 'change' and change['name'] == 'value':\n",
    "        feedback.clear_output()\n",
    "        with feedback:\n",
    "            print(options[change['new']])\n",
    "\n",
    "radio_buttons.observe(on_option_change)\n",
    "\n",
    "display(radio_buttons, feedback)\n"
   ]
  },
  {
   "cell_type": "markdown",
   "id": "db59f1e2",
   "metadata": {},
   "source": [
    "---"
   ]
  },
  {
   "cell_type": "markdown",
   "id": "7cb16db5",
   "metadata": {},
   "source": [
    "# **Question 2**"
   ]
  },
  {
   "cell_type": "markdown",
   "id": "78a41073",
   "metadata": {},
   "source": [
    "**Lesson:** COALESCE for replacing NULLs.\n",
    "\n",
    "### **Task 2**\n",
    "\n",
    "- Create a SQL view on this dataset that replaces missing Description values with **\"Description not provided\"** using `COALESCE`.\n",
    "- Keep the difficulty classification logic from **Task 1**: classify recipes by `TotalTime` into categories like Easy/Medium/Hard using a `CASE` statement.\n",
    "\n",
    "**Select these columns in your view:**\n",
    "  \n",
    "  - `Name`,  \n",
    "  - `Description` (with `COALESCE` applied),  \n",
    "  - `TotalTime`,\n",
    "  - `PrepCategory` (created via `CASE` for difficulty),  \n",
    "  - `RecipeCategory`.     \n",
    "\n"
   ]
  },
  {
   "cell_type": "markdown",
   "id": "77dda9d5",
   "metadata": {},
   "source": [
    "- Filter your view to include only recipes where `RecipeCategory` is `Breakfast` or `Beverages`.\n",
    "- Use an **external AI tool** to prompt for explanations of different **SQL NULL-handling methods** (e.g.,  `COALESCE`, `IFNULL`, `ISNULL`, `CASE`).\n",
    "- Compare the AI’s explanation with your own understanding and implementation, noting any differences or insights."
   ]
  },
  {
   "cell_type": "markdown",
   "id": "0eecafe4",
   "metadata": {},
   "source": [
    "#### **Example Expected SQL Query Output**"
   ]
  },
  {
   "cell_type": "code",
   "execution_count": 11,
   "id": "69d24c5a",
   "metadata": {},
   "outputs": [
    {
     "data": {
      "application/vnd.jupyter.widget-view+json": {
       "model_id": "3e1b5fa9d61949d5a99d6057d292dd79",
       "version_major": 2,
       "version_minor": 0
      },
      "text/plain": [
       "ToggleButton(value=False, button_style='info', description='Show Expected Query Output', icon='eye')"
      ]
     },
     "metadata": {},
     "output_type": "display_data"
    },
    {
     "data": {
      "application/vnd.jupyter.widget-view+json": {
       "model_id": "91fdc87953a64ced8de54fba89945c67",
       "version_major": 2,
       "version_minor": 0
      },
      "text/plain": [
       "Output()"
      ]
     },
     "metadata": {},
     "output_type": "display_data"
    }
   ],
   "source": [
    "import pandas as pd\n",
    "import sqlite3\n",
    "import ipywidgets as widgets\n",
    "from IPython.display import display, Markdown, clear_output\n",
    "\n",
    "\n",
    "# Expected output example markdown\n",
    "expected_sql_output_md = \"\"\"\n",
    "\n",
    "\n",
    "| Name                   | Description                  | TotalTime | PrepCategory | RecipeCategory |\n",
    "|------------------------|------------------------------|-----------|--------------|----------------|\n",
    "| Picnic Cowboy Caviar   | Make and share this Picnic Cowboy Caviar recipe from Food.com. | 80        | Hard         | Breakfast      |\n",
    "| Banilla Splash          | Make and share this Banilla Splash recipe from Food.com.       | 3         | Easy         | Beverages      |\n",
    "| Some Missing Desc Recip | Description not provided      | 20        | Easy         | Breakfast      |\n",
    "\n",
    "\"\"\"\n",
    "\n",
    "toggle_sql_output = widgets.ToggleButton(\n",
    "    value=False,\n",
    "    description='Show Expected Query Output',\n",
    "    button_style='info',\n",
    "    icon='eye'\n",
    ")\n",
    "sql_output_box = widgets.Output()\n",
    "\n",
    "def toggle_sql_output_change(change):\n",
    "    sql_output_box.clear_output()\n",
    "    if change['new']:\n",
    "        toggle_sql_output.description = 'Hide Expected Query Output'\n",
    "        with sql_output_box:\n",
    "            display(Markdown(expected_sql_output_md))\n",
    "    else:\n",
    "        toggle_sql_output.description = 'Show Expected Query Output'\n",
    "\n",
    "toggle_sql_output.observe(toggle_sql_output_change, names='value')\n",
    "\n",
    "display(toggle_sql_output, sql_output_box)\n",
    "\n",
    "# Student SQL input widget\n",
    "student_query_input = widgets.Textarea(\n",
    "    value='',\n",
    "    placeholder='Write your SQL query here...',\n",
    "    description='Your SQL Query:',\n",
    "    layout=widgets.Layout(width='100%', height='120px')\n",
    ")\n"
   ]
  },
  {
   "cell_type": "markdown",
   "id": "da820bbb",
   "metadata": {},
   "source": [
    "#### **(I)Enter Your SQL Query**"
   ]
  },
  {
   "cell_type": "code",
   "execution_count": 12,
   "id": "0ab362bc",
   "metadata": {},
   "outputs": [
    {
     "data": {
      "application/vnd.jupyter.widget-view+json": {
       "model_id": "a8f34bee9f93456faf30ce1291a15672",
       "version_major": 2,
       "version_minor": 0
      },
      "text/plain": [
       "VBox(children=(Label(value='🔹 Step 1: Create your view'), Textarea(value='', layout=Layout(height='100px', wid…"
      ]
     },
     "metadata": {},
     "output_type": "display_data"
    }
   ],
   "source": [
    "# 1️⃣ Load data once at the start\n",
    "import ipywidgets as widgets\n",
    "from IPython.display import display\n",
    "\n",
    "# --------------------\n",
    "# 2️⃣ Widget to CREATE the view\n",
    "# --------------------\n",
    "create_view_input = widgets.Textarea(\n",
    "    placeholder=\"Write your SQL to CREATE VIEW here...\",\n",
    "    layout=widgets.Layout(width=\"100%\", height=\"100px\")\n",
    ")\n",
    "\n",
    "create_view_btn = widgets.Button(description=\"Create View\", button_style=\"info\")\n",
    "create_view_output = widgets.Output()\n",
    "\n",
    "def on_create_view(b):\n",
    "    create_view_output.clear_output()\n",
    "    with create_view_output:\n",
    "        sql = create_view_input.value.strip()\n",
    "        if not sql:\n",
    "            print(\"⚠️ No CREATE VIEW statement entered.\")\n",
    "            return\n",
    "        try:\n",
    "            conn.execute(sql)\n",
    "            print(\"✅ View created successfully.\")\n",
    "        except Exception as e:\n",
    "            print(f\"❌ SQL Error: {e}\")\n",
    "\n",
    "create_view_btn.on_click(on_create_view)\n",
    "\n",
    "# --------------------\n",
    "# 3️⃣ Widget to query the created view\n",
    "# --------------------\n",
    "student_query_input = widgets.Textarea(\n",
    "    placeholder=\"Write your SQL query here (e.g., SELECT * FROM Task2_View)...\",\n",
    "    layout=widgets.Layout(width=\"100%\", height=\"120px\")\n",
    ")\n",
    "\n",
    "run_student_btn = widgets.Button(description=\"Run Your Query\", button_style=\"success\")\n",
    "student_output = widgets.Output()\n",
    "\n",
    "def run_query(query):\n",
    "    student_output.clear_output()\n",
    "    with student_output:\n",
    "        try:\n",
    "            if not query.strip():\n",
    "                print(\"⚠️ No query entered.\")\n",
    "                return\n",
    "            result = pd.read_sql_query(query, conn)\n",
    "            if result.empty:\n",
    "                print(\"⚠️ Query ran but returned no results.\")\n",
    "            else:\n",
    "                display(result.head(10))\n",
    "        except Exception as e:\n",
    "            print(f\"❌ SQL Error: {e}\")\n",
    "\n",
    "def on_run_student(b):\n",
    "    run_query(student_query_input.value)\n",
    "\n",
    "run_student_btn.on_click(on_run_student)\n",
    "\n",
    "# --------------------\n",
    "# 4️⃣ Display both sections\n",
    "# --------------------\n",
    "display(\n",
    "    widgets.VBox([\n",
    "        widgets.Label(\"🔹 Step 1: Create your view\"),\n",
    "        create_view_input, create_view_btn, create_view_output,\n",
    "        widgets.Label(\"🔹 Step 2: Query your view\"),\n",
    "        student_query_input, run_student_btn, student_output\n",
    "    ])\n",
    ")\n"
   ]
  },
  {
   "cell_type": "markdown",
   "id": "e2119bd3",
   "metadata": {},
   "source": [
    "#### **(II) AI’s Feedback**"
   ]
  },
  {
   "cell_type": "code",
   "execution_count": 13,
   "id": "4906ff43",
   "metadata": {},
   "outputs": [
    {
     "data": {
      "application/vnd.jupyter.widget-view+json": {
       "model_id": "8c90321830ac44fb9bf12d928898f91c",
       "version_major": 2,
       "version_minor": 0
      },
      "text/plain": [
       "Textarea(value='', description='AI Feedback:', layout=Layout(height='120px', width='100%'), placeholder='Paste…"
      ]
     },
     "metadata": {},
     "output_type": "display_data"
    },
    {
     "data": {
      "application/vnd.jupyter.widget-view+json": {
       "model_id": "01ad99b3fe414760a87b1fa5b29ca36b",
       "version_major": 2,
       "version_minor": 0
      },
      "text/plain": [
       "Button(button_style='primary', description='Submit AI Feedback', style=ButtonStyle())"
      ]
     },
     "metadata": {},
     "output_type": "display_data"
    },
    {
     "data": {
      "application/vnd.jupyter.widget-view+json": {
       "model_id": "df5d12dab11b4da7b1030a82d57e23ff",
       "version_major": 2,
       "version_minor": 0
      },
      "text/plain": [
       "Output()"
      ]
     },
     "metadata": {},
     "output_type": "display_data"
    }
   ],
   "source": [
    "# AI prompt for performance review\n",
    "\n",
    "\n",
    "\n",
    "\n",
    "ai_feedback_input = widgets.Textarea(\n",
    "    value='',\n",
    "    placeholder='Paste or write AI feedback here...',\n",
    "    description='AI Feedback:',\n",
    "    layout=widgets.Layout(width='100%', height='120px')\n",
    ")\n",
    "\n",
    "submit_ai_feedback_btn = widgets.Button(description='Submit AI Feedback', button_style='primary')\n",
    "ai_feedback_output = widgets.Output()\n",
    "\n",
    "def on_submit_ai_feedback(b):\n",
    "    ai_feedback_output.clear_output()\n",
    "    with ai_feedback_output:\n",
    "        if not ai_feedback_input.value.strip():\n",
    "            print(\"⚠️ Please enter AI feedback before submitting.\")\n",
    "        else:\n",
    "            print(\"✅ AI feedback submitted. Well done considering performance!\")\n",
    "\n",
    "submit_ai_feedback_btn.on_click(on_submit_ai_feedback)\n",
    "\n",
    "\n",
    "display(ai_feedback_input, submit_ai_feedback_btn, ai_feedback_output)"
   ]
  },
  {
   "cell_type": "markdown",
   "id": "1d5de0e9",
   "metadata": {},
   "source": [
    "#### **Reflection**\n",
    "\n",
    "Compare your query to the AI’s explanation. Where did your approach match or differ? What did you learn about handling `NULLs` with `COALESCE` versus `CASE`?\"\n"
   ]
  },
  {
   "cell_type": "markdown",
   "id": "57096dd4",
   "metadata": {},
   "source": [
    "### **Test Question 2** "
   ]
  },
  {
   "cell_type": "markdown",
   "id": "766caf52",
   "metadata": {},
   "source": [
    "**Which placement of `COALESCE` in the `SELECT` clause ensures NULLs are replaced without overwriting existing non-null data?**"
   ]
  },
  {
   "cell_type": "code",
   "execution_count": 14,
   "id": "12133a4b",
   "metadata": {},
   "outputs": [
    {
     "data": {
      "application/vnd.jupyter.widget-view+json": {
       "model_id": "599b11113c4547ec8897cdb4c2cb61ff",
       "version_major": 2,
       "version_minor": 0
      },
      "text/plain": [
       "Dropdown(description='Choose answer:', layout=Layout(width='90%'), options=('Apply COALESCE directly to the co…"
      ]
     },
     "metadata": {},
     "output_type": "display_data"
    },
    {
     "data": {
      "application/vnd.jupyter.widget-view+json": {
       "model_id": "98b61809cfed414cb017d07725b8adb0",
       "version_major": 2,
       "version_minor": 0
      },
      "text/plain": [
       "Button(button_style='info', description='Submit Answer', style=ButtonStyle())"
      ]
     },
     "metadata": {},
     "output_type": "display_data"
    },
    {
     "data": {
      "application/vnd.jupyter.widget-view+json": {
       "model_id": "0319f70561d842c5b0456f44366e1b74",
       "version_major": 2,
       "version_minor": 0
      },
      "text/plain": [
       "Output()"
      ]
     },
     "metadata": {},
     "output_type": "display_data"
    }
   ],
   "source": [
    "import ipywidgets as widgets\n",
    "from IPython.display import display\n",
    "\n",
    "# --------------------\n",
    "# MCQ setup for Task 2 - COALESCE placement\n",
    "# --------------------\n",
    "\n",
    "\n",
    "mcq_options = [\n",
    "    \"Apply COALESCE directly to the column in the SELECT clause.\",\n",
    "    \"Apply COALESCE to the table name in the FROM clause.\",\n",
    "    \"Wrap the entire SELECT statement with COALESCE.\",\n",
    "    \"Use COALESCE in the WHERE clause instead of SELECT.\"\n",
    "]\n",
    "\n",
    "mcq_dropdown = widgets.Dropdown(\n",
    "    options=mcq_options,\n",
    "    description='Choose answer:',\n",
    "    layout=widgets.Layout(width='90%')\n",
    ")\n",
    "\n",
    "mcq_submit_btn = widgets.Button(description='Submit Answer', button_style='info')\n",
    "mcq_feedback = widgets.Output()\n",
    "\n",
    "# --------------------\n",
    "# Feedback logic\n",
    "# --------------------\n",
    "def on_mcq_submit(b):\n",
    "    mcq_feedback.clear_output()\n",
    "    with mcq_feedback:\n",
    "        if mcq_dropdown.value == mcq_options[0]:\n",
    "            print(\"✅ Correct! Applying COALESCE directly to the column in SELECT replaces NULLs without affecting existing non-null values.\")\n",
    "        else:\n",
    "            print(\"❌ Not quite. COALESCE should be applied directly to the column in the SELECT clause to replace only NULL values.\")\n",
    "\n",
    "mcq_submit_btn.on_click(on_mcq_submit)\n",
    "\n",
    "# --------------------\n",
    "# Display MCQ\n",
    "# --------------------\n",
    "display(mcq_dropdown, mcq_submit_btn, mcq_feedback)\n"
   ]
  },
  {
   "cell_type": "markdown",
   "id": "3c53dec7",
   "metadata": {},
   "source": [
    "---"
   ]
  },
  {
   "cell_type": "markdown",
   "id": "9c1f9ea7",
   "metadata": {},
   "source": [
    "# **Question 3**"
   ]
  },
  {
   "cell_type": "markdown",
   "id": "5bb5a24f",
   "metadata": {},
   "source": [
    "#### **Lesson:** Mixing multiple control flow functions.\n",
    "\n",
    "#### **Task 3** \n",
    "The CFO wants to see the average cost estimate per difficulty level, where  `cost estimate` = `PrepTime` + `CookTime minutes`, and **\"Unknown\"** difficulty if cooking time is missing.\n",
    "\n",
    "**Write a query that:**\n",
    "\n",
    "- Uses `CASE` for difficulty classification based on `TotalTime`, with missing values showing **\"Unknown\"**\n",
    "- Uses `COALESCE` to handle missing cooking times\n",
    "- Calculates average cost estimate (`PrepTime` + `CookTime`) per difficulty level\n",
    "- Write an AI prompt that clearly requests a SQL query to solve the same problem.  \n",
    "- Run both your query and the AI-generated query to compare results.  \n",
    "- Reflect on differences, AI usefulness, and challenges you faced. \n",
    "\n"
   ]
  },
  {
   "cell_type": "markdown",
   "id": "829eaad0",
   "metadata": {},
   "source": [
    "####  **(I) Write your SQL query below.**\n"
   ]
  },
  {
   "cell_type": "markdown",
   "id": "3fc23511",
   "metadata": {},
   "source": [
    "#### **Example Expected Output**"
   ]
  },
  {
   "cell_type": "code",
   "execution_count": 15,
   "id": "37462636",
   "metadata": {},
   "outputs": [
    {
     "data": {
      "application/vnd.jupyter.widget-view+json": {
       "model_id": "638c050e18e44323aab0f95003ff7cc6",
       "version_major": 2,
       "version_minor": 0
      },
      "text/plain": [
       "ToggleButton(value=False, button_style='info', description='Show Expected Output', icon='eye')"
      ]
     },
     "metadata": {},
     "output_type": "display_data"
    },
    {
     "data": {
      "application/vnd.jupyter.widget-view+json": {
       "model_id": "ac6bdc4a34da4f19be5fb1e3555b8303",
       "version_major": 2,
       "version_minor": 0
      },
      "text/plain": [
       "Output()"
      ]
     },
     "metadata": {},
     "output_type": "display_data"
    },
    {
     "data": {
      "application/vnd.jupyter.widget-view+json": {
       "model_id": "896d5711226a4f8b9aaa57b9a455c0d1",
       "version_major": 2,
       "version_minor": 0
      },
      "text/plain": [
       "Textarea(value='', description='SQL Query:', layout=Layout(height='180px', width='100%'), placeholder='Write y…"
      ]
     },
     "metadata": {},
     "output_type": "display_data"
    },
    {
     "data": {
      "application/vnd.jupyter.widget-view+json": {
       "model_id": "a03be7c264e2443c99437359c2b184be",
       "version_major": 2,
       "version_minor": 0
      },
      "text/plain": [
       "Button(button_style='success', description='Run Your Query', style=ButtonStyle())"
      ]
     },
     "metadata": {},
     "output_type": "display_data"
    },
    {
     "data": {
      "application/vnd.jupyter.widget-view+json": {
       "model_id": "e862448ba4e34a59ad88ee71c9d2803c",
       "version_major": 2,
       "version_minor": 0
      },
      "text/plain": [
       "Output()"
      ]
     },
     "metadata": {},
     "output_type": "display_data"
    }
   ],
   "source": [
    "import pandas as pd\n",
    "import sqlite3\n",
    "import ipywidgets as widgets\n",
    "from IPython.display import display, Markdown, clear_output\n",
    "\n",
    "# --------------------\n",
    "# Example expected output for Task 3\n",
    "# --------------------\n",
    "expected_results_md = \"\"\"\n",
    "| PrepCategory | AvgCostEstimate | RecipeCount |\n",
    "|--------------|----------------|-------------|\n",
    "| Easy         | 22.5           | 18          |\n",
    "| Medium       | 45.3           | 25          |\n",
    "| Hard         | 78.9           | 10          |\n",
    "| Unknown      | 40.0           | 5           |\n",
    "\"\"\"\n",
    "\n",
    "toggle_expected = widgets.ToggleButton(\n",
    "    value=False,\n",
    "    description='Show Expected Output',\n",
    "    button_style='info',\n",
    "    icon='eye'\n",
    ")\n",
    "expected_output_box = widgets.Output()\n",
    "\n",
    "def toggle_expected_change(change):\n",
    "    expected_output_box.clear_output()\n",
    "    if change['new']:\n",
    "        toggle_expected.description = 'Hide Expected Output'\n",
    "        with expected_output_box:\n",
    "            display(Markdown(expected_results_md))\n",
    "    else:\n",
    "        toggle_expected.description = 'Show Expected Output'\n",
    "\n",
    "toggle_expected.observe(toggle_expected_change, names='value')\n",
    "\n",
    "display(toggle_expected, expected_output_box)\n",
    "\n",
    "# --------------------\n",
    "# Student SQL input widget\n",
    "# --------------------\n",
    "student_query_input = widgets.Textarea(\n",
    "    value='',\n",
    "    placeholder='Write your SQL query here...',\n",
    "    description='SQL Query:',\n",
    "    layout=widgets.Layout(width='100%', height='180px')\n",
    ")\n",
    "\n",
    "run_student_btn = widgets.Button(description='Run Your Query', button_style='success')\n",
    "student_output = widgets.Output()\n",
    "\n",
    "# --------------------\n",
    "# Function to run student's query\n",
    "# --------------------\n",
    "def run_student_query(b):\n",
    "    student_output.clear_output()\n",
    "    with student_output:\n",
    "        query = student_query_input.value.strip()\n",
    "        if not query:\n",
    "            print(\"⚠️ Please enter your SQL query.\")\n",
    "            return\n",
    "        if len(query) < 20:\n",
    "            print(\"⚠️ Query too short or incomplete.\")\n",
    "            return\n",
    "        try:\n",
    "            result = pd.read_sql_query(query, conn)\n",
    "            if result.empty:\n",
    "                print(\"⚠️ Query returned no results. Check filters or grouping conditions.\")\n",
    "            else:\n",
    "                display(result.head(10))\n",
    "        except Exception as e:\n",
    "            print(f\"❌ SQL Error: {e}\")\n",
    "\n",
    "run_student_btn.on_click(run_student_query)\n",
    "\n",
    "display(student_query_input, run_student_btn, student_output)\n"
   ]
  },
  {
   "cell_type": "markdown",
   "id": "6118e991",
   "metadata": {},
   "source": [
    "#### **(II) Write your AI prompt to have AI review your SQL query for logic, quality, or efficiency issues.**"
   ]
  },
  {
   "cell_type": "code",
   "execution_count": 16,
   "id": "c9ca79c0",
   "metadata": {},
   "outputs": [
    {
     "data": {
      "application/vnd.jupyter.widget-view+json": {
       "model_id": "bb3261e66e7c4b9cb0101bd8942f2ccc",
       "version_major": 2,
       "version_minor": 0
      },
      "text/plain": [
       "ToggleButton(value=False, button_style='info', description='Show Example AI Prompt', icon='eye')"
      ]
     },
     "metadata": {},
     "output_type": "display_data"
    },
    {
     "data": {
      "application/vnd.jupyter.widget-view+json": {
       "model_id": "f879f6411f4f492f84c23ed87ec6abba",
       "version_major": 2,
       "version_minor": 0
      },
      "text/plain": [
       "Output()"
      ]
     },
     "metadata": {},
     "output_type": "display_data"
    },
    {
     "data": {
      "application/vnd.jupyter.widget-view+json": {
       "model_id": "e040e095b3714b708ff3b2802754f09b",
       "version_major": 2,
       "version_minor": 0
      },
      "text/plain": [
       "Textarea(value='', description='AI SQL Query:', layout=Layout(height='120px', width='100%'), placeholder='Past…"
      ]
     },
     "metadata": {},
     "output_type": "display_data"
    },
    {
     "data": {
      "application/vnd.jupyter.widget-view+json": {
       "model_id": "6e57d299c602426a9c4b01c1a30f026a",
       "version_major": 2,
       "version_minor": 0
      },
      "text/plain": [
       "Button(button_style='info', description='Run AI Query', style=ButtonStyle())"
      ]
     },
     "metadata": {},
     "output_type": "display_data"
    },
    {
     "data": {
      "application/vnd.jupyter.widget-view+json": {
       "model_id": "2232cc91e71b47568f626a4c710100af",
       "version_major": 2,
       "version_minor": 0
      },
      "text/plain": [
       "Output()"
      ]
     },
     "metadata": {},
     "output_type": "display_data"
    }
   ],
   "source": [
    "# ---------- AI PROMPT SECTION ----------\n",
    "from IPython.display import Markdown, display\n",
    "import ipywidgets as widgets\n",
    "import pandas as pd\n",
    "import sqlite3\n",
    "\n",
    "# Example instructions\n",
    "ai_prompt_instructions = \"\"\"\n",
    "**Example AI prompt:**  \n",
    "\n",
    "- I want to calculate the average `PrepTime` + `CookTime` per difficulty level in SQLite.\n",
    "\n",
    " - Use a `CASE` statement to classify difficulty (Easy, Medium, Hard, \"Unknown\" if TotalTime is missing).\n",
    "\n",
    "- Use `COALESCE` to handle missing `PrepTime` or `CookTime`.\n",
    "\n",
    "- Explain the approach.\n",
    "\"\"\"\n",
    "\n",
    "# Toggle to show/hide example\n",
    "toggle_ai_prompt = widgets.ToggleButton(\n",
    "    value=False,\n",
    "    description='Show Example AI Prompt',\n",
    "    button_style='info',\n",
    "    icon='eye'\n",
    ")\n",
    "ai_prompt_box = widgets.Output()\n",
    "\n",
    "def toggle_ai_prompt_change(change):\n",
    "    ai_prompt_box.clear_output()\n",
    "    if change['new']:\n",
    "        toggle_ai_prompt.description = 'Hide Example AI Prompt'\n",
    "        with ai_prompt_box:\n",
    "            display(Markdown(ai_prompt_instructions))\n",
    "    else:\n",
    "        toggle_ai_prompt.description = 'Show Example AI Prompt'\n",
    "\n",
    "toggle_ai_prompt.observe(toggle_ai_prompt_change, names='value')\n",
    "display(toggle_ai_prompt, ai_prompt_box)\n",
    "\n",
    "# AI prompt input widget\n",
    "ai_prompt_input = widgets.Textarea(\n",
    "    value='',\n",
    "    placeholder='Paste your AI-generated query here...',\n",
    "    description='AI SQL Query:',\n",
    "    layout=widgets.Layout(width='100%', height='120px')\n",
    ")\n",
    "\n",
    "# AI Query run button & output\n",
    "run_ai_btn = widgets.Button(description='Run AI Query', button_style='info')\n",
    "ai_output = widgets.Output()\n",
    "\n",
    "def run_query(query, output_widget):\n",
    "    output_widget.clear_output()\n",
    "    with output_widget:\n",
    "        try:\n",
    "            if not query.strip():\n",
    "                print(\"⚠️ No query entered.\")\n",
    "                return\n",
    "            if len(query.strip()) < 20:\n",
    "                print(\"⚠️ Query too short or incomplete.\")\n",
    "                return\n",
    "            result = pd.read_sql_query(query, conn)\n",
    "            if result.empty:\n",
    "                print(\"⚠️ Query ran but returned no results.\")\n",
    "            else:\n",
    "                display(result.head(10))\n",
    "        except Exception as e:\n",
    "            print(f\"❌ SQL Error: {e}\")\n",
    "\n",
    "def on_run_ai(b):\n",
    "    ai_output.clear_output()\n",
    "    with ai_output:\n",
    "        print(\"⚠️ Please paste your AI-generated SQL query into the 'Your SQL Query' box and run it.\") \n",
    "\n",
    "run_ai_btn.on_click(on_run_ai)\n",
    "\n",
    "display(ai_prompt_input, run_ai_btn, ai_output)\n"
   ]
  },
  {
   "cell_type": "markdown",
   "id": "7bdef334",
   "metadata": {},
   "source": [
    "####  **Reflection**"
   ]
  },
  {
   "cell_type": "markdown",
   "id": "9aca1289",
   "metadata": {},
   "source": [
    "- How did using `CASE` and `COALESCE` together help handle missing `TotalTime` or `CookTime` values?\n",
    "\n",
    "- Compare your query results with the AI-generated query. Were there any differences in logic, output, or handling of missing data?\n",
    "\n",
    "- Which approach (your own or AI-generated) was easier to reason about, and why?\n",
    "\n",
    "- What challenges did you encounter when combining multiple control flow functions, and how did you resolve them?\n",
    "\n",
    "- What did this task teach you about using AI as a collaborator versus relying solely on your own SQL reasoning?"
   ]
  },
  {
   "cell_type": "code",
   "execution_count": 17,
   "id": "51b11222",
   "metadata": {},
   "outputs": [
    {
     "data": {
      "application/vnd.jupyter.widget-view+json": {
       "model_id": "1ae35be1a74540dfa78c824a8a31326a",
       "version_major": 2,
       "version_minor": 0
      },
      "text/plain": [
       "Textarea(value='', description='Reflection:', layout=Layout(height='150px', width='100%'), placeholder='Write …"
      ]
     },
     "metadata": {},
     "output_type": "display_data"
    },
    {
     "data": {
      "application/vnd.jupyter.widget-view+json": {
       "model_id": "9124c8d428d34ac389900dd809d3ade6",
       "version_major": 2,
       "version_minor": 0
      },
      "text/plain": [
       "Button(button_style='primary', description='Submit Reflection', style=ButtonStyle())"
      ]
     },
     "metadata": {},
     "output_type": "display_data"
    },
    {
     "data": {
      "application/vnd.jupyter.widget-view+json": {
       "model_id": "41b3fea4c3ac484396d7d88e4480cfba",
       "version_major": 2,
       "version_minor": 0
      },
      "text/plain": [
       "Output()"
      ]
     },
     "metadata": {},
     "output_type": "display_data"
    }
   ],
   "source": [
    "# --- Reflection ---\n",
    "\n",
    "reflection_input = widgets.Textarea(\n",
    "    value='',\n",
    "    placeholder='Write your reflection here...',\n",
    "    description='Reflection:',\n",
    "    layout=widgets.Layout(width='100%', height='150px')\n",
    ")\n",
    "\n",
    "reflection_submit_btn = widgets.Button(description='Submit Reflection', button_style='primary')\n",
    "reflection_output = widgets.Output()\n",
    "\n",
    "def on_reflection_submit(b):\n",
    "    reflection_output.clear_output()\n",
    "    with reflection_output:\n",
    "        if not reflection_input.value.strip():\n",
    "            print(\"⚠️ Please enter your reflection before submitting.\")\n",
    "        else:\n",
    "            print(\"✅ Reflection submitted. Thanks for your thoughtful insights!\")\n",
    "\n",
    "reflection_submit_btn.on_click(on_reflection_submit)\n",
    "\n",
    "display(reflection_input, reflection_submit_btn, reflection_output)"
   ]
  },
  {
   "cell_type": "markdown",
   "id": "0b0f1231",
   "metadata": {},
   "source": [
    "### **Test Question 3** "
   ]
  },
  {
   "cell_type": "markdown",
   "id": "4cf54f1a",
   "metadata": {},
   "source": [
    "**Given two queries with the same logic but different clause orders, which query is most likely to produce the CFO’s expected output?**\n"
   ]
  },
  {
   "cell_type": "code",
   "execution_count": 18,
   "id": "5d3c6102",
   "metadata": {},
   "outputs": [
    {
     "data": {
      "application/vnd.jupyter.widget-view+json": {
       "model_id": "5b7b884b85974486a76487320d2462b1",
       "version_major": 2,
       "version_minor": 0
      },
      "text/plain": [
       "Dropdown(description='Choose answer:', layout=Layout(width='90%'), options=('Both queries will always produce …"
      ]
     },
     "metadata": {},
     "output_type": "display_data"
    },
    {
     "data": {
      "application/vnd.jupyter.widget-view+json": {
       "model_id": "ddca41107c7a49da8ccd5d7efe7e2b14",
       "version_major": 2,
       "version_minor": 0
      },
      "text/plain": [
       "Button(button_style='info', description='Submit Answer', style=ButtonStyle())"
      ]
     },
     "metadata": {},
     "output_type": "display_data"
    },
    {
     "data": {
      "application/vnd.jupyter.widget-view+json": {
       "model_id": "b1effe6f4e1c435589c9206e45ee434b",
       "version_major": 2,
       "version_minor": 0
      },
      "text/plain": [
       "Output()"
      ]
     },
     "metadata": {},
     "output_type": "display_data"
    }
   ],
   "source": [
    "import ipywidgets as widgets\n",
    "from IPython.display import display\n",
    "\n",
    "# --------------------\n",
    "# MCQ setup for Task 3 - clause order\n",
    "# --------------------\n",
    "\n",
    "mcq_options = [\n",
    "    \"Both queries will always produce identical results regardless of clause order.\",\n",
    "    \"The query that filters RecipeCategory first (WHERE ...) ensures the CFO sees only relevant recipes.\",\n",
    "    \"The query with fewer CASE statements will always produce the correct output.\",\n",
    "    \"Using ORDER BY before WHERE guarantees the correct CFO output.\"\n",
    "]\n",
    "\n",
    "mcq_dropdown = widgets.Dropdown(\n",
    "    options=mcq_options,\n",
    "    description='Choose answer:',\n",
    "    layout=widgets.Layout(width='90%')\n",
    ")\n",
    "\n",
    "mcq_submit_btn = widgets.Button(description='Submit Answer', button_style='info')\n",
    "mcq_feedback = widgets.Output()\n",
    "\n",
    "# --------------------\n",
    "# Feedback logic\n",
    "# --------------------\n",
    "def on_mcq_submit(b):\n",
    "    mcq_feedback.clear_output()\n",
    "    with mcq_feedback:\n",
    "        if mcq_dropdown.value == mcq_options[1]:\n",
    "            print(\"✅ Correct! Filtering first ensures the CFO sees only relevant recipe categories, producing the expected output.\")\n",
    "        else:\n",
    "            print(\"❌ Not quite. Consider which clause order ensures the filtered results match CFO expectations.\")\n",
    "\n",
    "mcq_submit_btn.on_click(on_mcq_submit)\n",
    "\n",
    "# --------------------\n",
    "# Display MCQ\n",
    "# --------------------\n",
    "display(mcq_dropdown, mcq_submit_btn, mcq_feedback)\n"
   ]
  },
  {
   "cell_type": "markdown",
   "id": "d4dde2e4",
   "metadata": {},
   "source": [
    "---"
   ]
  },
  {
   "cell_type": "markdown",
   "id": "fef9ccac",
   "metadata": {},
   "source": [
    "# **Question 4**"
   ]
  },
  {
   "cell_type": "markdown",
   "id": "fdb51542",
   "metadata": {},
   "source": [
    "**Lesson:**  Creating and updating SQL views.\n",
    "\n",
    "### **Task 4** \n",
    "\n",
    "The CEO wants a permanent recipe_overview view combining difficulty, null-safe descriptions, and average ratings.\n",
    "\n",
    "Create a persistent view using logic from previous tasks.\n",
    "\n",
    "**Your task:** \n",
    "\n",
    "- Create a persistent SQL view using the logic from previous tasks.\n",
    "\n",
    "**Include at least:** \n",
    "\n",
    "- One control flow function (`CASE`, `IF`, etc.)\n",
    "- One null-handling function (`COALESCE`, `NULLIF`, etc.)\n",
    "- Use an external AI tool to draft a **CREATE VIEW**  statement, then compare it with your own implementation. \n",
    "- Check whether the AI’s draft includes all required column.\n",
    "- Use `COALESCE()` (or another null-handling function) to replace missing descriptions.\n",
    "- Classify recipes as **Easy**, **Medium**, or **Hard** based on `TotalTime` using a control flow function (`CASE`).\n",
    "- Calculate the average rating per difficulty level.\n",
    "\n",
    "**Hints / Approach**\n",
    "\n",
    "- Think about **which columns can have NULL values** and use `COALESCE()` to handle them.\n",
    "- Use a **CASE statement** to assign `PrepCategory` based on `TotalTime`.\n",
    "- Aggregate ratings using **AVG()** grouped by difficulty or recipe.\n",
    "- Combine all logic into a **persistent view** so the data can be queried easily by other analysts or dashboards.\n",
    "  \n",
    "    \n",
    "  \n",
    "⚠️ **Do not just copy-paste a query.**  \n",
    "> Focus on planning your approach:  \n",
    "> - Identify the transformations needed  \n",
    "> - Decide where null handling is required  \n",
    "> - Determine how to classify and aggregate"
   ]
  },
  {
   "cell_type": "markdown",
   "id": "7238fad8",
   "metadata": {},
   "source": [
    "#### **(II) Write your AI prompt to ask for performance review and optimization suggestions.**"
   ]
  },
  {
   "cell_type": "code",
   "execution_count": 19,
   "id": "34908c00",
   "metadata": {},
   "outputs": [
    {
     "data": {
      "application/vnd.jupyter.widget-view+json": {
       "model_id": "3d0e4fedacc7440e9d24b6299f14fc8e",
       "version_major": 2,
       "version_minor": 0
      },
      "text/plain": [
       "ToggleButton(value=False, button_style='info', description='Show Example AI Prompt', icon='eye')"
      ]
     },
     "metadata": {},
     "output_type": "display_data"
    },
    {
     "data": {
      "application/vnd.jupyter.widget-view+json": {
       "model_id": "c3ae1e6de556476fb56b27635115c46f",
       "version_major": 2,
       "version_minor": 0
      },
      "text/plain": [
       "Output()"
      ]
     },
     "metadata": {},
     "output_type": "display_data"
    },
    {
     "data": {
      "application/vnd.jupyter.widget-view+json": {
       "model_id": "5e5f36789ca749dc8ce64379c369d23e",
       "version_major": 2,
       "version_minor": 0
      },
      "text/plain": [
       "ToggleButton(value=False, button_style='info', description='Show Expected Results', icon='eye', tooltip='Click…"
      ]
     },
     "metadata": {},
     "output_type": "display_data"
    },
    {
     "data": {
      "application/vnd.jupyter.widget-view+json": {
       "model_id": "21e729a259564572aa442ced9ee25a93",
       "version_major": 2,
       "version_minor": 0
      },
      "text/plain": [
       "Output()"
      ]
     },
     "metadata": {},
     "output_type": "display_data"
    },
    {
     "data": {
      "application/vnd.jupyter.widget-view+json": {
       "model_id": "28447916056a4ddca13b811d4d3d96e9",
       "version_major": 2,
       "version_minor": 0
      },
      "text/plain": [
       "Textarea(value='', description='SQL Query:', layout=Layout(height='120px', width='100%'), placeholder='Paste y…"
      ]
     },
     "metadata": {},
     "output_type": "display_data"
    },
    {
     "data": {
      "application/vnd.jupyter.widget-view+json": {
       "model_id": "1ce6dedf0bca4978b15bfe0b2342c1ec",
       "version_major": 2,
       "version_minor": 0
      },
      "text/plain": [
       "Button(button_style='success', description='Run Query', style=ButtonStyle())"
      ]
     },
     "metadata": {},
     "output_type": "display_data"
    },
    {
     "data": {
      "application/vnd.jupyter.widget-view+json": {
       "model_id": "38630859453346c59213881997ad5833",
       "version_major": 2,
       "version_minor": 0
      },
      "text/plain": [
       "Output()"
      ]
     },
     "metadata": {},
     "output_type": "display_data"
    },
    {
     "data": {
      "application/vnd.jupyter.widget-view+json": {
       "model_id": "2bb8085613424d74bb01b87c6694e4e6",
       "version_major": 2,
       "version_minor": 0
      },
      "text/plain": [
       "Textarea(value='', description='Your Explanation:', layout=Layout(height='100px', width='100%'), placeholder='…"
      ]
     },
     "metadata": {},
     "output_type": "display_data"
    },
    {
     "data": {
      "application/vnd.jupyter.widget-view+json": {
       "model_id": "15f6554a1faa461fa60e4d7274910e4d",
       "version_major": 2,
       "version_minor": 0
      },
      "text/plain": [
       "Button(button_style='primary', description='Submit Explanation', style=ButtonStyle())"
      ]
     },
     "metadata": {},
     "output_type": "display_data"
    },
    {
     "data": {
      "application/vnd.jupyter.widget-view+json": {
       "model_id": "93083706fd9b4fcea1c64043de973df1",
       "version_major": 2,
       "version_minor": 0
      },
      "text/plain": [
       "Output()"
      ]
     },
     "metadata": {},
     "output_type": "display_data"
    }
   ],
   "source": [
    "import pandas as pd\n",
    "from IPython.display import display, Markdown, clear_output\n",
    "import ipywidgets as widgets\n",
    "import sqlite3\n",
    "\n",
    "# Load your dataset\n",
    "df = pd.read_csv('famous_recipes_100.csv')\n",
    "\n",
    "# Prepare an in-memory SQLite database with the data\n",
    "conn = sqlite3.connect(':memory:')\n",
    "df.to_sql('recipes', conn, index=False, if_exists='replace')\n",
    "\n",
    "# Expected results markdown text\n",
    "expected_results_md = \"\"\"\n",
    "### Expected Results Sample\n",
    "\n",
    "| Name                          | Description                     | TotalTime | PrepCategory | RecipeCategory | AvgRating |\n",
    "| ----------------------------- | ------------------------------- | --------- | ------------ | -------------- | --------- |\n",
    "| Picnic Cowboy Caviar          | Make and share this Picnic ...  | 80        | Medium       | Black Beans    | 4.0       |\n",
    "| Turkey Schnitzel With Tots... | Make and share this Turkey ...  | 40        | Easy         | Poultry        | 5.3       |\n",
    "| Banilla Splash                | Make and share this Banilla ... | 6         | Easy         | Beverages      | 5.0       |\n",
    "\n",
    "\n",
    "\n",
    "\"\"\"\n",
    "\n",
    "# Widget to toggle expected results\n",
    "toggle_button = widgets.ToggleButton(\n",
    "    value=False,\n",
    "    description='Show Expected Results',\n",
    "    button_style='info',\n",
    "    tooltip='Click to show/hide expected results',\n",
    "    icon='eye'\n",
    ")\n",
    "\n",
    "expected_results_output = widgets.Output()\n",
    "\n",
    "def on_toggle_change(change):\n",
    "    expected_results_output.clear_output()\n",
    "    if change['new']:\n",
    "        toggle_button.description = 'Hide Expected Results'\n",
    "        with expected_results_output:\n",
    "            display(Markdown(expected_results_md))\n",
    "    else:\n",
    "        toggle_button.description = 'Show Expected Results'\n",
    "\n",
    "toggle_button.observe(on_toggle_change, names='value')\n",
    "\n",
    "\n",
    "# Prompt example \n",
    "\n",
    "ai_prompt_instructions = \"\"\"\n",
    "\n",
    "**Example prompt:**  \n",
    "\n",
    "\n",
    "I want to create a persistent SQL view called `recipe_overview` in SQLite that summarizes recipes.\n",
    "\n",
    " **Requirements**\n",
    "- Include **Name**, **Description**, **TotalTime**, **PrepCategory** (difficulty via `CASE`), **RecipeCategory**, and **AggregatedRating**.\n",
    "- Use **`COALESCE`** (or another null-handling function) to replace missing descriptions.\n",
    "- Classify recipes by difficulty (**Easy**, **Medium**, **Hard**) using a control flow function.\n",
    "- Show how to calculate the **average rating per difficulty level**.\n",
    "\n",
    " **Approach**\n",
    "Explain your approach without giving me a copy-paste query.\n",
    "\n",
    "\"\"\"\n",
    "\n",
    "toggle_ai_prompt = widgets.ToggleButton(\n",
    "    value=False,\n",
    "    description='Show Example AI Prompt',\n",
    "    button_style='info',\n",
    "    icon='eye'\n",
    ")\n",
    "ai_prompt_box = widgets.Output()\n",
    "\n",
    "def toggle_ai_prompt_change(change):\n",
    "    ai_prompt_box.clear_output()\n",
    "    if change['new']:\n",
    "        toggle_ai_prompt.description = 'Hide Example AI Prompt'\n",
    "        with ai_prompt_box:\n",
    "            display(Markdown(ai_prompt_instructions))\n",
    "    else:\n",
    "        toggle_ai_prompt.description = 'Show Example AI Prompt'\n",
    "\n",
    "toggle_ai_prompt.observe(toggle_ai_prompt_change, names='value')\n",
    "\n",
    "display(toggle_ai_prompt, ai_prompt_box)\n",
    "\n",
    "# SQL input widgets\n",
    "query_input = widgets.Textarea(\n",
    "    value='',\n",
    "    placeholder='Paste your AI-generated SQL query here...',\n",
    "    description='SQL Query:',\n",
    "    layout=widgets.Layout(width='100%', height='120px')\n",
    ")\n",
    "\n",
    "run_button = widgets.Button(description='Run Query', button_style='success')\n",
    "output = widgets.Output()\n",
    "\n",
    "def on_run_button_clicked(b):\n",
    "    with output:\n",
    "        clear_output()\n",
    "        query = query_input.value.strip()\n",
    "        if not query:\n",
    "            print(\"⚠️ Please enter your SQL query before submitting.\")\n",
    "            return\n",
    "        if len(query) < 20:\n",
    "            print(\"⚠️ Your SQL query seems too short. Please double-check your prompt or code.\")\n",
    "            return\n",
    "        try:\n",
    "            result = pd.read_sql_query(query, conn)\n",
    "            display(result)\n",
    "        except Exception as e:\n",
    "            print(f\"❌ SQL Error: {e}\")\n",
    "\n",
    "run_button.on_click(on_run_button_clicked)\n",
    "\n",
    "# Explanation text area\n",
    "explanation_input = widgets.Textarea(\n",
    "    value='',\n",
    "    placeholder='Write your explanation or reasoning for your SQL query here...',\n",
    "    description='Your Explanation:',\n",
    "    layout=widgets.Layout(width='100%', height='100px')\n",
    ")\n",
    "\n",
    "submit_explanation_btn = widgets.Button(description='Submit Explanation', button_style='primary')\n",
    "explanation_output = widgets.Output()\n",
    "\n",
    "def on_submit_explanation(b):\n",
    "    with explanation_output:\n",
    "        clear_output()\n",
    "        explanation = explanation_input.value.strip()\n",
    "        if not explanation:\n",
    "            print(\"⚠️ Explanation cannot be empty. Please share your reasoning.\")\n",
    "        else:\n",
    "            print(\"✅ Explanation submitted:\")\n",
    "            print(explanation)\n",
    "\n",
    "submit_explanation_btn.on_click(on_submit_explanation)\n",
    "\n",
    "# Display widgets in order\n",
    "display(\n",
    "    toggle_button, expected_results_output,\n",
    "    query_input, run_button, output,\n",
    "    explanation_input, submit_explanation_btn, explanation_output\n",
    ")\n",
    "\n"
   ]
  },
  {
   "cell_type": "markdown",
   "id": "cee4224c",
   "metadata": {},
   "source": [
    "#### **Reflection**\n",
    "\n",
    "- How did you verify that the AI’s draft included all required columns and logic?\n",
    "- Did the AI’s use of `CASE` and `COALESCE` match your expectations? If not, what did you change?\n",
    "- Was the AI’s clause order and syntax compatible with SQLite specifically?\n",
    "- If the AI’s solution ran without errors but gave unexpected results, what debugging steps did you take?\n",
    "- What’s the risk of over-relying on AI output for multi-requirement SQL queries?\n",
    "\n",
    "\n"
   ]
  },
  {
   "cell_type": "markdown",
   "id": "75dd4135",
   "metadata": {},
   "source": [
    "#### **Test Question 4**"
   ]
  },
  {
   "cell_type": "markdown",
   "id": "c08ce854",
   "metadata": {},
   "source": [
    "**An AI draft of the `CREATE VIEW recipe_overview AS` ... statement includes `CASE` for difficulty but omits `COALESCE` for null-safe descriptions.**\n",
    "\n",
    "**Which outcome is most likely if you run the AI’s query as-is?**"
   ]
  },
  {
   "cell_type": "code",
   "execution_count": 20,
   "id": "b6bbe34f",
   "metadata": {},
   "outputs": [
    {
     "data": {
      "application/vnd.jupyter.widget-view+json": {
       "model_id": "14e83bba4c404b7789640c76e9b83187",
       "version_major": 2,
       "version_minor": 0
      },
      "text/plain": [
       "VBox(children=(Checkbox(value=False, description='The query will fail to compile because COALESCE is required …"
      ]
     },
     "metadata": {},
     "output_type": "display_data"
    },
    {
     "data": {
      "application/vnd.jupyter.widget-view+json": {
       "model_id": "9e2b30fa3bd647d295c35ee59b925453",
       "version_major": 2,
       "version_minor": 0
      },
      "text/plain": [
       "Button(button_style='info', description='Submit Answers', style=ButtonStyle())"
      ]
     },
     "metadata": {},
     "output_type": "display_data"
    },
    {
     "data": {
      "application/vnd.jupyter.widget-view+json": {
       "model_id": "bbd3284f611a46f7a76cc56d274fd113",
       "version_major": 2,
       "version_minor": 0
      },
      "text/plain": [
       "Output()"
      ]
     },
     "metadata": {},
     "output_type": "display_data"
    }
   ],
   "source": [
    "import ipywidgets as widgets\n",
    "from IPython.display import display, Markdown\n",
    "\n",
    "# MCQ options\n",
    "mcq_options = [\n",
    "    \"The query will fail to compile because COALESCE is required by SQL syntax\",\n",
    "    \"The query will run, but NULL descriptions will remain unchanged\",\n",
    "    \"The query will run, but average ratings will display as 0 instead of NULL\",\n",
    "    \"The query will produce duplicate rows for recipes with NULL descriptions\"\n",
    "]\n",
    "\n",
    "# Create checkbox widgets for each option\n",
    "checkboxes = [widgets.Checkbox(value=False, description=opt, indent=False) for opt in mcq_options]\n",
    "\n",
    "# Submit button and feedback output\n",
    "mcq_submit_btn = widgets.Button(description='Submit Answers', button_style='info')\n",
    "mcq_feedback = widgets.Output()\n",
    "\n",
    "# Check answer on submit\n",
    "def on_mcq_submit(b):\n",
    "    mcq_feedback.clear_output()\n",
    "    with mcq_feedback:\n",
    "        selected = {cb.description for cb in checkboxes if cb.value}\n",
    "        correct = {\n",
    "            \"The query will run, but NULL descriptions will remain unchanged\"\n",
    "        }\n",
    "        if selected == correct:\n",
    "            print(\"✅ Correct! Without COALESCE, NULL values stay as NULL in the output.\")\n",
    "        else:\n",
    "            print(\"❌ Not quite. Think about what happens to NULLs when COALESCE is missing.\")\n",
    "\n",
    "mcq_submit_btn.on_click(on_mcq_submit)\n",
    "\n",
    "# Display widgets\n",
    "display(widgets.VBox(checkboxes))\n",
    "display(mcq_submit_btn)\n",
    "display(mcq_feedback)\n"
   ]
  },
  {
   "cell_type": "markdown",
   "id": "3f0334c7",
   "metadata": {},
   "source": [
    "---"
   ]
  },
  {
   "cell_type": "markdown",
   "id": "2584e3ed",
   "metadata": {},
   "source": [
    "# **Question 5**"
   ]
  },
  {
   "cell_type": "markdown",
   "id": "c9a4e501",
   "metadata": {},
   "source": [
    "**Lesson:** Complex Views with Multiple Control Flow Layers\n",
    "\n",
    "**Task 5** \n",
    "\n",
    "The executive team wants a single permanent SQL view that satisfies the needs of all four stakeholders:\n",
    "\n",
    "- **Head Chef** — Classify each recipe’s difficulty level.  \n",
    "- **Marketing Director** — Replace missing descriptions with a placeholder.  \n",
    "- **CFO** — Label each recipe as `\"Budget\"` or `\"Premium\"` based on cost thresholds.  \n",
    "- **CEO** — Add an `\"Attention Needed\"` flag for recipes with low ratings **and** missing descriptions.  \n",
    "\n",
    "**Task**\n",
    "- Create **one persistent view** that includes **all four logic layers**.\n",
    "- Use **at least two distinct `CASE` statements** (they can be nested or sequential).\n",
    "- Incorporate a **null-handling function** where applicable.\n",
    "  \n",
    "\n",
    "> ⚠️ **Note:** Focus on structuring your logic so each stakeholder’s requirement is met in a single query.\n",
    "\n"
   ]
  },
  {
   "cell_type": "code",
   "execution_count": 21,
   "id": "160ebb8c",
   "metadata": {},
   "outputs": [
    {
     "data": {
      "application/vnd.jupyter.widget-view+json": {
       "model_id": "538b7003ab944703988a04e27b7a6c73",
       "version_major": 2,
       "version_minor": 0
      },
      "text/plain": [
       "Textarea(value='', description='Your SQL:', layout=Layout(height='140px', width='100%'), placeholder='Write yo…"
      ]
     },
     "metadata": {},
     "output_type": "display_data"
    },
    {
     "data": {
      "application/vnd.jupyter.widget-view+json": {
       "model_id": "adef304920b047e8bfb6322910a41b6a",
       "version_major": 2,
       "version_minor": 0
      },
      "text/plain": [
       "Button(button_style='success', description='Run Your Query', style=ButtonStyle())"
      ]
     },
     "metadata": {},
     "output_type": "display_data"
    },
    {
     "data": {
      "application/vnd.jupyter.widget-view+json": {
       "model_id": "31769a1645034a69a5a0f4fa15c61057",
       "version_major": 2,
       "version_minor": 0
      },
      "text/plain": [
       "Output()"
      ]
     },
     "metadata": {},
     "output_type": "display_data"
    }
   ],
   "source": [
    "import pandas as pd\n",
    "import sqlite3\n",
    "import ipywidgets as widgets\n",
    "from IPython.display import display, Markdown, clear_output\n",
    "\n",
    "\n",
    "# Student SQL input\n",
    "student_query_input = widgets.Textarea(\n",
    "    value='',\n",
    "    placeholder='Write your SQL aggregation query here...',\n",
    "    description='Your SQL:',\n",
    "    layout=widgets.Layout(width='100%', height='140px')\n",
    ")\n",
    "\n",
    "run_btn = widgets.Button(description='Run Your Query', button_style='success')\n",
    "run_output = widgets.Output()\n",
    "\n",
    "def run_student_query(b):\n",
    "    with run_output:\n",
    "        clear_output()\n",
    "        query = student_query_input.value.strip()\n",
    "        if not query:\n",
    "            print(\"⚠️ Enter your SQL query first.\")\n",
    "            return\n",
    "        if len(query) < 30:\n",
    "            print(\"⚠️ Query too short; check your logic.\")\n",
    "            return\n",
    "        try:\n",
    "            result = pd.read_sql_query(query, conn)\n",
    "            if result.empty:\n",
    "                print(\"⚠️ Query ran but returned no results.\")\n",
    "            else:\n",
    "                display(Markdown(\"**Your Query Results:**\"))\n",
    "                display(result)\n",
    "        except Exception as e:\n",
    "            print(f\"❌ SQL Error: {e}\")\n",
    "\n",
    "run_btn.on_click(run_student_query)\n",
    "\n",
    "display(student_query_input, run_btn, run_output)\n",
    "\n",
    "\n"
   ]
  },
  {
   "cell_type": "markdown",
   "id": "41ca8a77",
   "metadata": {},
   "source": [
    "**Expected Output Sample for `executive_report` View**"
   ]
  },
  {
   "cell_type": "code",
   "execution_count": 22,
   "id": "ee0718bf",
   "metadata": {},
   "outputs": [
    {
     "data": {
      "application/vnd.jupyter.widget-view+json": {
       "model_id": "c61575d25c83428fb5a9ab5d591eb3c3",
       "version_major": 2,
       "version_minor": 0
      },
      "text/plain": [
       "ToggleButton(value=False, button_style='info', description='Show Expected Output', icon='eye')"
      ]
     },
     "metadata": {},
     "output_type": "display_data"
    },
    {
     "data": {
      "application/vnd.jupyter.widget-view+json": {
       "model_id": "563dad5d3d18462cb61c028482b47258",
       "version_major": 2,
       "version_minor": 0
      },
      "text/plain": [
       "Output()"
      ]
     },
     "metadata": {},
     "output_type": "display_data"
    }
   ],
   "source": [
    "import ipywidgets as widgets\n",
    "from IPython.display import display, Markdown, clear_output\n",
    "\n",
    "# Expected output markdown (example for Task 5's view)\n",
    "expected_output_md = \"\"\"\n",
    "\n",
    "\n",
    "| Name                           | Description                          | TotalTime | PrepCategory | RecipeCategory | CostLabel | AttentionNeeded | AvgRating |\n",
    "| ------------------------------ | ------------------------------------ | --------- | ------------ | -------------- | --------- | --------------- | --------- |\n",
    "| Picnic Cowboy Caviar           | Make and share this Picnic ...       | 80        | Medium       | Black Beans    | Budget    | No              | 4.0       |\n",
    "| Turkey Schnitzel With Tots ... | Make and share this Turkey ...       | 40        | Easy         | Poultry        | Premium   | No              | 5.3       |\n",
    "| Banilla Splash                 | Make and share this Banilla ...      | 6         | Easy         | Beverages      | Budget    | No              | 5.0       |\n",
    "| Mystery Smoothie               | NULL                                 | 15        | Easy         | Beverages      | Budget    | Yes             | 3.2       |\n",
    "| Vegan Lasagna                  | Make and share this Vegan Lasagna... | 90        | Hard         | Vegetarian     | Premium   | No              | 4.5       |\n",
    "\n",
    "\"\"\"\n",
    "\n",
    "expected_output_toggle = widgets.ToggleButton(\n",
    "    value=False,\n",
    "    description='Show Expected Output',\n",
    "    button_style='info',\n",
    "    icon='eye'\n",
    ")\n",
    "\n",
    "expected_output_display = widgets.Output()\n",
    "\n",
    "def toggle_expected_output(change):\n",
    "    expected_output_display.clear_output()\n",
    "    if change['new']:\n",
    "        expected_output_toggle.description = 'Hide Expected Output'\n",
    "        with expected_output_display:\n",
    "            display(Markdown(expected_output_md))\n",
    "    else:\n",
    "        expected_output_toggle.description = 'Show Expected Output'\n",
    "\n",
    "expected_output_toggle.observe(toggle_expected_output, names='value')\n",
    "\n",
    "display(expected_output_toggle, expected_output_display)"
   ]
  },
  {
   "cell_type": "markdown",
   "id": "88598a33",
   "metadata": {},
   "source": [
    "#### **Reflection**"
   ]
  },
  {
   "cell_type": "markdown",
   "id": "65194ac6",
   "metadata": {},
   "source": [
    "- Which stakeholder’s requirement was the most difficult to implement and why?  \n",
    "- How did you decide where to nest your `CASE` statements versus keeping them separate?  \n",
    "- Did your null-handling logic interfere with the CEO’s `\"Attention Needed\"` flag? If yes, how did you fix it?  \n",
    "- If the CFO later changes the cost threshold, which parts of your view would you need to update?\n",
    "- If you had used AI for this task, how might it have helped you plan or draft the multi-layer view?\n",
    "- Would AI have suggested any logic or structure you hadn’t considered? What would you need to **critically evaluate** if you relied on AI output?"
   ]
  },
  {
   "cell_type": "markdown",
   "id": "03fa8874",
   "metadata": {},
   "source": [
    "### **Test Question 5**"
   ]
  },
  {
   "cell_type": "markdown",
   "id": "b4f9cbb5",
   "metadata": {},
   "source": [
    "Two students wrote queries for the final report:\n",
    "\n",
    "**Query A**  \n",
    "- Uses three separate `CASE` statements in the `SELECT` clause.  \n",
    "- Applies `COALESCE()` on `description` **before** checking `\"Attention Needed\"`.  \n",
    "- Classifies difficulty using `total_minutes`.  \n",
    "\n",
    "**Query B**  \n",
    "- Uses one nested `CASE` statement for difficulty and `\"Attention Needed\"`.  \n",
    "- Applies `COALESCE()` on `description` **after** `\"Attention Needed\"` logic.  \n",
    "- Classifies difficulty using `prep_minutes + cook_minutes`.  \n",
    "\n",
    "**Scenario :**  \n",
    "- The CFO says the output must match **cost labels** correctly.  \n",
    "- The CEO says `\"Attention Needed\"` should **only trigger when the actual description column is NULL**, not when replaced text is present.  \n",
    "\n",
    "**Question:**  \n",
    "Which query meets all requirements?\n"
   ]
  },
  {
   "cell_type": "code",
   "execution_count": 23,
   "id": "6c0495d1",
   "metadata": {},
   "outputs": [
    {
     "data": {
      "application/vnd.jupyter.widget-view+json": {
       "model_id": "82c1dacee0174a0ba85cf87ef8821f01",
       "version_major": 2,
       "version_minor": 0
      },
      "text/plain": [
       "Dropdown(description='Choose answer:', layout=Layout(width='90%'), options=('Query A only', 'Query B only', 'B…"
      ]
     },
     "metadata": {},
     "output_type": "display_data"
    },
    {
     "data": {
      "application/vnd.jupyter.widget-view+json": {
       "model_id": "4717926d5b534347a28c363f2fb137dc",
       "version_major": 2,
       "version_minor": 0
      },
      "text/plain": [
       "Button(button_style='info', description='Submit Answer', style=ButtonStyle())"
      ]
     },
     "metadata": {},
     "output_type": "display_data"
    },
    {
     "data": {
      "application/vnd.jupyter.widget-view+json": {
       "model_id": "77590362528640119bbbea795fc22c62",
       "version_major": 2,
       "version_minor": 0
      },
      "text/plain": [
       "Output()"
      ]
     },
     "metadata": {},
     "output_type": "display_data"
    }
   ],
   "source": [
    "import ipywidgets as widgets\n",
    "from IPython.display import display\n",
    "\n",
    "# --------------------\n",
    "# MCQ setup for Task 5 - multi-role view\n",
    "# --------------------\n",
    "\n",
    "\n",
    "mcq_options = [\n",
    "    \"Query A only\",\n",
    "    \"Query B only\",\n",
    "    \"Both Query A and Query B\",\n",
    "    \"Neither Query A nor Query B\"\n",
    "]\n",
    "\n",
    "mcq_dropdown = widgets.Dropdown(\n",
    "    options=mcq_options,\n",
    "    description='Choose answer:',\n",
    "    layout=widgets.Layout(width='90%')\n",
    ")\n",
    "\n",
    "mcq_submit_btn = widgets.Button(description='Submit Answer', button_style='info')\n",
    "mcq_feedback = widgets.Output()\n",
    "\n",
    "# --------------------\n",
    "# Feedback logic\n",
    "# --------------------\n",
    "def on_mcq_submit(b):\n",
    "    mcq_feedback.clear_output()\n",
    "    with mcq_feedback:\n",
    "        if mcq_dropdown.value == mcq_options[0]:\n",
    "            print(\"✅ Correct! Query A applies COALESCE after the 'Attention Needed' logic, so the CEO's condition triggers correctly on actual NULLs.\")\n",
    "        else:\n",
    "            print(\"❌ Not quite. Remember that 'Attention Needed' should only flag recipes with raw NULL descriptions before COALESCE replacement.\")\n",
    "\n",
    "mcq_submit_btn.on_click(on_mcq_submit)\n",
    "\n",
    "# --------------------\n",
    "# Display MCQ\n",
    "# --------------------\n",
    "display(mcq_dropdown, mcq_submit_btn, mcq_feedback)\n"
   ]
  },
  {
   "cell_type": "markdown",
   "id": "8f81951c",
   "metadata": {},
   "source": [
    "Congratulations! 🎉 You’ve completed all five tasks in this series, tackling real-world SQL challenges designed to mirror the workflow of a multi-role executive team.\n",
    "\n",
    "\n",
    "\n",
    "**What You’ve Achieved**\n",
    "\n",
    "- Applied **control flow functions** (`CASE`, `COALESCE`) to classify, flag, and handle missing data.  \n",
    "- Built **persistent views** that consolidate complex logic for multiple stakeholders.  \n",
    "- Learned to **critically compare AI-generated SQL** with your own queries, spotting differences and validating results.  \n",
    "- Practiced **null-handling strategies**, nested `CASE` statements, and multi-layered query design.  \n",
    "- Gained experience thinking like **executives, data engineers, and analysts simultaneously**, balancing business rules with technical logic.  \n",
    "\n",
    "\n",
    "\n",
    "**Next Steps**\n",
    "\n",
    "- Review your **queries and reflections**, focusing on decisions where AI could have helped or might have introduced pitfalls.  \n",
    "- Apply these patterns to new datasets: classify, aggregate, handle nulls, and build executive-ready views.  \n",
    "- Experiment with **optimizing your queries** while maintaining correctness for multiple stakeholder requirements.  \n",
    "\n",
    "**Tip:** The interplay between human reasoning and AI assistance is a key skill—AI can suggest solutions, but **critical thinking ensures accuracy, clarity, and alignment with business rules**.\n"
   ]
  },
  {
   "cell_type": "markdown",
   "id": "628f5762",
   "metadata": {},
   "source": [
    "**Self-Assessment Checklist**"
   ]
  },
  {
   "cell_type": "code",
   "execution_count": 24,
   "id": "14b64a3b",
   "metadata": {},
   "outputs": [
    {
     "data": {
      "application/vnd.jupyter.widget-view+json": {
       "model_id": "ab14245fa725499aa3f9350ed5a8f38d",
       "version_major": 2,
       "version_minor": 0
      },
      "text/plain": [
       "VBox(children=(Checkbox(value=False, description='I correctly used CASE statements for multiple stakeholders',…"
      ]
     },
     "metadata": {},
     "output_type": "display_data"
    },
    {
     "data": {
      "application/vnd.jupyter.widget-view+json": {
       "model_id": "eb078e31fcba4f09adf1261dd6d290e9",
       "version_major": 2,
       "version_minor": 0
      },
      "text/plain": [
       "Output()"
      ]
     },
     "metadata": {},
     "output_type": "display_data"
    }
   ],
   "source": [
    "import ipywidgets as widgets\n",
    "from IPython.display import display, HTML, clear_output\n",
    "\n",
    "# Self-assessment checklist\n",
    "checklist_options = [\n",
    "    \"I correctly used CASE statements for multiple stakeholders\",\n",
    "    \"I handled NULL values effectively using COALESCE or similar functions\",\n",
    "    \"I compared my queries with AI output and reflected critically\",\n",
    "    \"I built persistent views consolidating multiple business rules\",\n",
    "    \"I understand how query logic affects different executive requirements\"\n",
    "]\n",
    "\n",
    "checkboxes = [widgets.Checkbox(value=False, description=opt, indent=False) for opt in checklist_options]\n",
    "output_msg = widgets.Output()\n",
    "\n",
    "def check_all(change):\n",
    "    if all(cb.value for cb in checkboxes):\n",
    "        with output_msg:\n",
    "            clear_output()\n",
    "            display(HTML(\n",
    "                '<b style=\"color:green\">'\n",
    "                '🎉 Great job! You have completed the self-assessment checklist for this lesson on multi-layer SQL views and null-handling. '\n",
    "                'You’ve practiced combining control flow logic, handling missing data, and designing executive-ready queries!'\n",
    "                '</b>'\n",
    "            ))\n",
    "    else:\n",
    "        with output_msg:\n",
    "            clear_output()\n",
    "\n",
    "# Attach the observer to all checkboxes\n",
    "for cb in checkboxes:\n",
    "    cb.observe(check_all, names='value')\n",
    "\n",
    "# Display the checkboxes and output message\n",
    "display(widgets.VBox(checkboxes))\n",
    "display(output_msg)\n",
    "\n"
   ]
  },
  {
   "cell_type": "code",
   "execution_count": null,
   "id": "e2dc02a5",
   "metadata": {},
   "outputs": [],
   "source": []
  },
  {
   "cell_type": "code",
   "execution_count": null,
   "id": "89eb55ab",
   "metadata": {},
   "outputs": [],
   "source": []
  },
  {
   "cell_type": "code",
   "execution_count": null,
   "id": "e926ab52",
   "metadata": {},
   "outputs": [],
   "source": []
  },
  {
   "cell_type": "code",
   "execution_count": null,
   "id": "835fc21a",
   "metadata": {},
   "outputs": [],
   "source": []
  },
  {
   "cell_type": "code",
   "execution_count": null,
   "id": "d909763a",
   "metadata": {},
   "outputs": [],
   "source": []
  },
  {
   "cell_type": "code",
   "execution_count": null,
   "id": "f70d776f",
   "metadata": {},
   "outputs": [],
   "source": []
  },
  {
   "cell_type": "code",
   "execution_count": null,
   "id": "41682dd3",
   "metadata": {},
   "outputs": [],
   "source": []
  }
 ],
 "metadata": {
  "kernelspec": {
   "display_name": "Python 3 (ipykernel)",
   "language": "python",
   "name": "python3"
  },
  "language_info": {
   "codemirror_mode": {
    "name": "ipython",
    "version": 3
   },
   "file_extension": ".py",
   "mimetype": "text/x-python",
   "name": "python",
   "nbconvert_exporter": "python",
   "pygments_lexer": "ipython3",
   "version": "3.11.5"
  }
 },
 "nbformat": 4,
 "nbformat_minor": 5
}
