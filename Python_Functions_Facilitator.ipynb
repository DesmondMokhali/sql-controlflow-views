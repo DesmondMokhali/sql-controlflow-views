{
 "cells": [
  {
   "cell_type": "markdown",
   "id": "8acd6697",
   "metadata": {},
   "source": [
    "# **Control Flow Functions and Views**"
   ]
  },
  {
   "cell_type": "markdown",
   "id": "804e5274",
   "metadata": {},
   "source": [
    "#### **Executive Roundtable Challenge**\n",
    "\n",
    "**Duration:** ~1 hour  \n",
    "**Assumptions:** Learners have already completed lessons on SQL `CASE`, `COALESCE`, `NULLIF`, `IF`, and SQL Views. \n",
    "\n",
    "   \n",
    "\n",
    "You’re a **Data Analyst** at a popular restaurant chain.\n",
    "\n",
    "**Today, you’re at the executive roundtable with:**  \n",
    "- The CEO  \n",
    "- The Head Chef  \n",
    "- The Marketing Director  \n",
    "- The CFO\n",
    "\n",
    "**On the table:** your laptop, the full recipe data, your analytical skills, and AI as your smart assistant.\n",
    "\n",
    "\n",
    "**Your job:** write smart SQL queries, generate insightful views, and collaborate with AI to deliver answers, not shortcuts or guesswork.\n"
   ]
  },
  {
   "cell_type": "markdown",
   "id": "aadf5bc7",
   "metadata": {},
   "source": [
    "![Executive Roundtable](https://raw.githubusercontent.com/DesmondMokhali/sql-controlflow-views/main/Round%20table.jpg)"
   ]
  },
  {
   "cell_type": "markdown",
   "id": "9c371a9a",
   "metadata": {},
   "source": [
    "### **Learning Outcomes**\n",
    "\n",
    "**By the end of this module, students should be able to:**\n",
    "\n",
    "- Understand and use SQL control flow functions (e.g., `CASE`, `IF`, `COALESCE`, `NULLIF`) and views in practical scenarios.  \n",
    "- Apply these SQL concepts in data-rich, story-driven tasks that simulate real-world challenges.  \n",
    "- Use AI critically and ethically, not as a shortcut, but to enhance reasoning, generate ideas, and refine problem-solving approaches.  \n",
    "- Write effective, context-aware AI prompts to support coding, debugging, and explanation processes.\n",
    "\n",
    "---"
   ]
  },
  {
   "cell_type": "markdown",
   "id": "e40ba7ab",
   "metadata": {},
   "source": [
    "### **What’s AI Got To Do With It?**\n",
    "\n",
    "**AI tools (like ([ChatGPT](https://chat.openai.com), [Claude](https://claude.ai)) can assist you to:**  \n",
    "- Write and debug SQL queries  \n",
    "- Explain your code and logic  \n",
    "- Provide feedback and suggestions to improve your solutions\n",
    "\n",
    "**BUT**, AI will not learn for you. Poorly crafted prompts lead to unreliable or irrelevant answers.\n",
    "\n",
    "Let’s master the art of prompting to get the best results and truly enhance your learning. 💪\n",
    "\n"
   ]
  },
  {
   "cell_type": "markdown",
   "id": "e7abc4d5",
   "metadata": {},
   "source": [
    "### **Mastering AI Prompting: Examples of Effective Prompts**\n",
    "\n",
    "Imagine you want to categorize recipes based on their preparation time.\n",
    "\n",
    "**❌ Poor Prompt:**  \n",
    "Write a SQL query with CASE.\n",
    "\n",
    "**⚠️ Improved Prompt:**  \n",
    "Write a SQL query that uses CASE to group recipes.\n",
    "\n",
    "**✅ Excellent Prompt:**  \n",
    "Write a SQL query that uses CASE to classify recipes as 'Quick' if preparation time is under 20 minutes,  \n",
    "'Moderate' if between 20 and 45 minutes, and 'Long' if over 45 minutes.\n",
    "\n",
    "### Why this works:\n",
    "\n",
    "- Provides **clear context** by specifying the dataset and column (recipes and preparation time)  \n",
    "- Defines **explicit conditions** and meaningful categories  \n",
    "- Specifies the **expected output format**, guiding precise query construction\n",
    "\n",
    "---"
   ]
  },
  {
   "cell_type": "markdown",
   "id": "69080aea",
   "metadata": {},
   "source": [
    "### 📂 **Dataset Overview**\n",
    "\n",
    "We’re using the **Food.com Recipes Dataset**, sourced from Kaggle:  \n",
    "**Source:** [Food.com Recipes and User Interactions – Kaggle](https://www.kaggle.com/datasets/shuyangli94/food-com-recipes-and-user-interactions)\n",
    "\n",
    "**Format:** CSV\n",
    "\n",
    "### 🔑 Key Columns:\n",
    "\n",
    "- **RecipeId:** Unique recipe identifier  \n",
    "- **Name:** Recipe name  \n",
    "- **AuthorId / AuthorName:** Creator information  \n",
    "- **CookTime, PrepTime, TotalTime:** Time details (in minutes)  \n",
    "- **DatePublished:** Publication date  \n",
    "- **Description:** Short description of the recipe  \n",
    "- **RecipeCategory / Keywords:** Tags and category labels (e.g., vegan, dessert)  \n",
    "- **RecipeIngredientQuantities / RecipeIngredientParts:** Ingredients and their quantities  \n",
    "- **AggregatedRating:** Average rating score  \n",
    "- **ReviewCount:** Number of reviews (popularity proxy)  \n",
    "- **Calories, FatContent, SaturatedFatContent, CholesterolContent, SodiumContent, CarbohydrateContent, FiberContent, SugarContent, ProteinContent:** Nutritional information  \n",
    "- **RecipeServings / RecipeYield:** Portion sizes  \n",
    "- **RecipeInstructions:** Step-by-step cooking instructions\n",
    "\n",
    "For full field definitions and dataset details, refer to the Kaggle dataset page linked above.\n",
    "\n",
    "### 🔧 **Data Preparation**\n",
    "\n",
    "For this module, we have randomly selected **100 recipes** from the full dataset to keep the workload manageable and focused on a diverse, practical subset.\n",
    "\n",
    "This sample maintains a rich variety of recipes for effective learning while ensuring efficient processing in SQL queries and notebook operations.\n",
    "\n",
    "---"
   ]
  },
  {
   "cell_type": "markdown",
   "id": "4950a094",
   "metadata": {},
   "source": [
    "### ⚙️ **Environment Setup**\n",
    "\n",
    "This notebook uses **Pandas**, **SQLite**, and **ipywidgets** to create an interactive and clean learning experience.  \n",
    "We’ll set up everything here so that the rest of the notebook runs smoothly without extra installations.  \n",
    "\n",
    "- **pandas** → data manipulation & analysis  \n",
    "- **sqlite3** → lightweight SQL database for queries  \n",
    "- **ipywidgets** → interactivity (dropdowns, buttons, etc.)  \n",
    "- **IPython.display** → nice Markdown/text output  \n",
    "- **matplotlib & seaborn** → simple plots and visuals  \n",
    "\n",
    "> 💡 If you ever restart the kernel, just re-run this cell to restore the environment.\n"
   ]
  },
  {
   "cell_type": "code",
   "execution_count": 88,
   "id": "5f2a8358",
   "metadata": {},
   "outputs": [
    {
     "data": {
      "text/markdown": [
       "**Environment setup complete!** You can now run all cells below."
      ],
      "text/plain": [
       "<IPython.core.display.Markdown object>"
      ]
     },
     "metadata": {},
     "output_type": "display_data"
    }
   ],
   "source": [
    "# Install required packages (quiet mode)\n",
    "!pip install ipywidgets pandas matplotlib seaborn requests --quiet\n",
    "\n",
    "# Imports\n",
    "import pandas as pd\n",
    "import sqlite3\n",
    "import matplotlib.pyplot as plt\n",
    "import seaborn as sns\n",
    "import ipywidgets as widgets\n",
    "from IPython.display import display, Markdown, clear_output\n",
    "import requests\n",
    "from io import StringIO\n",
    "\n",
    "# Notebook settings\n",
    "pd.set_option('display.max_columns', None)\n",
    "pd.set_option('display.max_rows', 50)\n",
    "plt.style.use(\"seaborn-v0_8\")  # cleaner plots\n",
    "\n",
    "# Helper function to display Markdown easily\n",
    "def show_md(text):\n",
    "    display(Markdown(text))\n",
    "\n",
    "# Environment ready\n",
    "show_md(\"**Environment setup complete!** You can now run all cells below.\")\n",
    "\n"
   ]
  },
  {
   "cell_type": "markdown",
   "id": "19a7aa63",
   "metadata": {},
   "source": [
    "### **Loading and Inspecting the Famous Recipes Dataset**"
   ]
  },
  {
   "cell_type": "code",
   "execution_count": 89,
   "id": "be21ce24",
   "metadata": {},
   "outputs": [
    {
     "name": "stdout",
     "output_type": "stream",
     "text": [
      "Dataset loaded into SQL with 100 rows.\n"
     ]
    },
    {
     "data": {
      "text/markdown": [
       "### First 5 rows (key columns only)"
      ],
      "text/plain": [
       "<IPython.core.display.Markdown object>"
      ]
     },
     "metadata": {},
     "output_type": "display_data"
    },
    {
     "data": {
      "text/html": [
       "<div>\n",
       "<style scoped>\n",
       "    .dataframe tbody tr th:only-of-type {\n",
       "        vertical-align: middle;\n",
       "    }\n",
       "\n",
       "    .dataframe tbody tr th {\n",
       "        vertical-align: top;\n",
       "    }\n",
       "\n",
       "    .dataframe thead th {\n",
       "        text-align: right;\n",
       "    }\n",
       "</style>\n",
       "<table border=\"1\" class=\"dataframe\">\n",
       "  <thead>\n",
       "    <tr style=\"text-align: right;\">\n",
       "      <th></th>\n",
       "      <th>RecipeId</th>\n",
       "      <th>Name</th>\n",
       "      <th>AuthorId</th>\n",
       "      <th>AuthorName</th>\n",
       "      <th>CookTime</th>\n",
       "      <th>PrepTime</th>\n",
       "      <th>TotalTime</th>\n",
       "      <th>DatePublished</th>\n",
       "      <th>Description</th>\n",
       "      <th>RecipeCategory</th>\n",
       "      <th>Keywords</th>\n",
       "      <th>RecipeIngredientQuantities</th>\n",
       "      <th>RecipeIngredientParts</th>\n",
       "      <th>AggregatedRating</th>\n",
       "      <th>ReviewCount</th>\n",
       "      <th>Calories</th>\n",
       "      <th>FatContent</th>\n",
       "      <th>SaturatedFatContent</th>\n",
       "      <th>CholesterolContent</th>\n",
       "      <th>SodiumContent</th>\n",
       "      <th>CarbohydrateContent</th>\n",
       "      <th>FiberContent</th>\n",
       "      <th>SugarContent</th>\n",
       "      <th>ProteinContent</th>\n",
       "      <th>RecipeServings</th>\n",
       "      <th>RecipeYield</th>\n",
       "      <th>RecipeInstructions</th>\n",
       "    </tr>\n",
       "  </thead>\n",
       "  <tbody>\n",
       "    <tr>\n",
       "      <th>0</th>\n",
       "      <td>373686</td>\n",
       "      <td>Picnic Cowboy Caviar</td>\n",
       "      <td>798690</td>\n",
       "      <td>Amy BC</td>\n",
       "      <td>60.0</td>\n",
       "      <td>20</td>\n",
       "      <td>80</td>\n",
       "      <td>2009-05-22T02:13:00Z</td>\n",
       "      <td>Make and share this Picnic Cowboy Caviar recip...</td>\n",
       "      <td>Black Beans</td>\n",
       "      <td>c(\"Beans\", \"Tex Mex\", \"Southwestern U.S.\", \"Po...</td>\n",
       "      <td>c(\"15\", \"15\", \"15\", \"5 -6\", \"1\", \"1\", \"2\", \"2\"...</td>\n",
       "      <td>c(\"black beans\", \"black-eyed peas\", \"white cor...</td>\n",
       "      <td>4.0</td>\n",
       "      <td>1.0</td>\n",
       "      <td>341.5</td>\n",
       "      <td>18.0</td>\n",
       "      <td>2.6</td>\n",
       "      <td>0.0</td>\n",
       "      <td>612.9</td>\n",
       "      <td>39.3</td>\n",
       "      <td>12.3</td>\n",
       "      <td>4.1</td>\n",
       "      <td>11.0</td>\n",
       "      <td>8.0</td>\n",
       "      <td>NaN</td>\n",
       "      <td>c(\"Mix the dressing ingredients together.\", \"T...</td>\n",
       "    </tr>\n",
       "    <tr>\n",
       "      <th>1</th>\n",
       "      <td>406657</td>\n",
       "      <td>Turkey Schnitzel With Tots &amp;amp; Apple-Cranber...</td>\n",
       "      <td>601277</td>\n",
       "      <td>hungrykitten</td>\n",
       "      <td>25.0</td>\n",
       "      <td>15</td>\n",
       "      <td>40</td>\n",
       "      <td>2010-01-04T08:06:00Z</td>\n",
       "      <td>Make and share this Turkey Schnitzel With Tots...</td>\n",
       "      <td>Poultry</td>\n",
       "      <td>c(\"Meat\", \"&lt; 60 Mins\")</td>\n",
       "      <td>c(\"4\", \"4\", \"1\", \"1/3\", NA, \"2\", \"1 1/2\", \"1\",...</td>\n",
       "      <td>c(\"potatoes\", \"mcintosh apples\", \"apple cider\"...</td>\n",
       "      <td>NaN</td>\n",
       "      <td>NaN</td>\n",
       "      <td>421.0</td>\n",
       "      <td>5.3</td>\n",
       "      <td>1.4</td>\n",
       "      <td>105.8</td>\n",
       "      <td>342.9</td>\n",
       "      <td>85.1</td>\n",
       "      <td>9.8</td>\n",
       "      <td>24.7</td>\n",
       "      <td>12.2</td>\n",
       "      <td>4.0</td>\n",
       "      <td>NaN</td>\n",
       "      <td>c(\"Bake the potatoes according to package dire...</td>\n",
       "    </tr>\n",
       "    <tr>\n",
       "      <th>2</th>\n",
       "      <td>457811</td>\n",
       "      <td>Banilla Splash</td>\n",
       "      <td>169430</td>\n",
       "      <td>Annacia</td>\n",
       "      <td>NaN</td>\n",
       "      <td>3</td>\n",
       "      <td>3</td>\n",
       "      <td>2011-06-02T15:59:00Z</td>\n",
       "      <td>Make and share this Banilla Splash recipe from...</td>\n",
       "      <td>Beverages</td>\n",
       "      <td>c(\"Polynesian\", \"&lt; 15 Mins\", \"Easy\")</td>\n",
       "      <td>c(\"1\", \"1\", \"4 1/2\", \"1 1/2\")</td>\n",
       "      <td>c(\"vodka\", \"cranberry juice\")</td>\n",
       "      <td>5.0</td>\n",
       "      <td>2.0</td>\n",
       "      <td>154.6</td>\n",
       "      <td>0.3</td>\n",
       "      <td>0.0</td>\n",
       "      <td>0.0</td>\n",
       "      <td>2.5</td>\n",
       "      <td>20.2</td>\n",
       "      <td>0.3</td>\n",
       "      <td>16.7</td>\n",
       "      <td>0.9</td>\n",
       "      <td>1.0</td>\n",
       "      <td>NaN</td>\n",
       "      <td>c(\"Add all ingredients to a hurricane glass fi...</td>\n",
       "    </tr>\n",
       "    <tr>\n",
       "      <th>3</th>\n",
       "      <td>112556</td>\n",
       "      <td>Easy Tomato Tortilla Soup</td>\n",
       "      <td>2310</td>\n",
       "      <td>Geema</td>\n",
       "      <td>10.0</td>\n",
       "      <td>5</td>\n",
       "      <td>15</td>\n",
       "      <td>2005-03-03T19:59:00Z</td>\n",
       "      <td>I am looking forward to trying this super simp...</td>\n",
       "      <td>Beans</td>\n",
       "      <td>c(\"&lt; 15 Mins\", \"Easy\")</td>\n",
       "      <td>c(\"2\", \"1\", \"1/2\", NA, NA, \"1\", \"1\", \"2\", \"2\")</td>\n",
       "      <td>c(\"diced tomatoes with green chilies\", \"navy b...</td>\n",
       "      <td>3.0</td>\n",
       "      <td>1.0</td>\n",
       "      <td>211.2</td>\n",
       "      <td>1.0</td>\n",
       "      <td>0.1</td>\n",
       "      <td>0.0</td>\n",
       "      <td>1900.8</td>\n",
       "      <td>42.7</td>\n",
       "      <td>11.2</td>\n",
       "      <td>0.4</td>\n",
       "      <td>11.6</td>\n",
       "      <td>4.0</td>\n",
       "      <td>NaN</td>\n",
       "      <td>c(\"Place beans and tomatoes in a blender and p...</td>\n",
       "    </tr>\n",
       "    <tr>\n",
       "      <th>4</th>\n",
       "      <td>93</td>\n",
       "      <td>Blue Stuffed Mushrooms</td>\n",
       "      <td>1533</td>\n",
       "      <td>Dancer</td>\n",
       "      <td>NaN</td>\n",
       "      <td>15</td>\n",
       "      <td>15</td>\n",
       "      <td>1999-08-12T06:42:00Z</td>\n",
       "      <td>Make and share this Blue Stuffed Mushrooms rec...</td>\n",
       "      <td>Free Of...</td>\n",
       "      <td>c(\"&lt; 15 Mins\", \"Easy\")</td>\n",
       "      <td>c(\"4\", \"4\", \"1\", \"14\", \"14\", \"14\")</td>\n",
       "      <td>c(\"blue cheese\", \"cream cheese\", \"half-and-hal...</td>\n",
       "      <td>5.0</td>\n",
       "      <td>11.0</td>\n",
       "      <td>246.3</td>\n",
       "      <td>22.2</td>\n",
       "      <td>12.1</td>\n",
       "      <td>53.8</td>\n",
       "      <td>482.8</td>\n",
       "      <td>3.5</td>\n",
       "      <td>0.9</td>\n",
       "      <td>1.0</td>\n",
       "      <td>9.9</td>\n",
       "      <td>4.0</td>\n",
       "      <td>NaN</td>\n",
       "      <td>c(\"In a medium bowl, combine the blue cheese a...</td>\n",
       "    </tr>\n",
       "  </tbody>\n",
       "</table>\n",
       "</div>"
      ],
      "text/plain": [
       "   RecipeId                                               Name  AuthorId  \\\n",
       "0    373686                               Picnic Cowboy Caviar    798690   \n",
       "1    406657  Turkey Schnitzel With Tots &amp; Apple-Cranber...    601277   \n",
       "2    457811                                     Banilla Splash    169430   \n",
       "3    112556                          Easy Tomato Tortilla Soup      2310   \n",
       "4        93                             Blue Stuffed Mushrooms      1533   \n",
       "\n",
       "     AuthorName  CookTime  PrepTime  TotalTime         DatePublished  \\\n",
       "0        Amy BC      60.0        20         80  2009-05-22T02:13:00Z   \n",
       "1  hungrykitten      25.0        15         40  2010-01-04T08:06:00Z   \n",
       "2       Annacia       NaN         3          3  2011-06-02T15:59:00Z   \n",
       "3         Geema      10.0         5         15  2005-03-03T19:59:00Z   \n",
       "4        Dancer       NaN        15         15  1999-08-12T06:42:00Z   \n",
       "\n",
       "                                         Description RecipeCategory  \\\n",
       "0  Make and share this Picnic Cowboy Caviar recip...    Black Beans   \n",
       "1  Make and share this Turkey Schnitzel With Tots...        Poultry   \n",
       "2  Make and share this Banilla Splash recipe from...      Beverages   \n",
       "3  I am looking forward to trying this super simp...          Beans   \n",
       "4  Make and share this Blue Stuffed Mushrooms rec...     Free Of...   \n",
       "\n",
       "                                            Keywords  \\\n",
       "0  c(\"Beans\", \"Tex Mex\", \"Southwestern U.S.\", \"Po...   \n",
       "1                             c(\"Meat\", \"< 60 Mins\")   \n",
       "2               c(\"Polynesian\", \"< 15 Mins\", \"Easy\")   \n",
       "3                             c(\"< 15 Mins\", \"Easy\")   \n",
       "4                             c(\"< 15 Mins\", \"Easy\")   \n",
       "\n",
       "                          RecipeIngredientQuantities  \\\n",
       "0  c(\"15\", \"15\", \"15\", \"5 -6\", \"1\", \"1\", \"2\", \"2\"...   \n",
       "1  c(\"4\", \"4\", \"1\", \"1/3\", NA, \"2\", \"1 1/2\", \"1\",...   \n",
       "2                      c(\"1\", \"1\", \"4 1/2\", \"1 1/2\")   \n",
       "3     c(\"2\", \"1\", \"1/2\", NA, NA, \"1\", \"1\", \"2\", \"2\")   \n",
       "4                 c(\"4\", \"4\", \"1\", \"14\", \"14\", \"14\")   \n",
       "\n",
       "                               RecipeIngredientParts  AggregatedRating  \\\n",
       "0  c(\"black beans\", \"black-eyed peas\", \"white cor...               4.0   \n",
       "1  c(\"potatoes\", \"mcintosh apples\", \"apple cider\"...               NaN   \n",
       "2                      c(\"vodka\", \"cranberry juice\")               5.0   \n",
       "3  c(\"diced tomatoes with green chilies\", \"navy b...               3.0   \n",
       "4  c(\"blue cheese\", \"cream cheese\", \"half-and-hal...               5.0   \n",
       "\n",
       "   ReviewCount  Calories  FatContent  SaturatedFatContent  CholesterolContent  \\\n",
       "0          1.0     341.5        18.0                  2.6                 0.0   \n",
       "1          NaN     421.0         5.3                  1.4               105.8   \n",
       "2          2.0     154.6         0.3                  0.0                 0.0   \n",
       "3          1.0     211.2         1.0                  0.1                 0.0   \n",
       "4         11.0     246.3        22.2                 12.1                53.8   \n",
       "\n",
       "   SodiumContent  CarbohydrateContent  FiberContent  SugarContent  \\\n",
       "0          612.9                 39.3          12.3           4.1   \n",
       "1          342.9                 85.1           9.8          24.7   \n",
       "2            2.5                 20.2           0.3          16.7   \n",
       "3         1900.8                 42.7          11.2           0.4   \n",
       "4          482.8                  3.5           0.9           1.0   \n",
       "\n",
       "   ProteinContent  RecipeServings RecipeYield  \\\n",
       "0            11.0             8.0         NaN   \n",
       "1            12.2             4.0         NaN   \n",
       "2             0.9             1.0         NaN   \n",
       "3            11.6             4.0         NaN   \n",
       "4             9.9             4.0         NaN   \n",
       "\n",
       "                                  RecipeInstructions  \n",
       "0  c(\"Mix the dressing ingredients together.\", \"T...  \n",
       "1  c(\"Bake the potatoes according to package dire...  \n",
       "2  c(\"Add all ingredients to a hurricane glass fi...  \n",
       "3  c(\"Place beans and tomatoes in a blender and p...  \n",
       "4  c(\"In a medium bowl, combine the blue cheese a...  "
      ]
     },
     "metadata": {},
     "output_type": "display_data"
    }
   ],
   "source": [
    "# Download CSV from Google Drive\n",
    "file_id = \"1WxwDmc_GtBGlobm0yKx9wrGbo95G28x9\"\n",
    "url = f\"https://drive.google.com/uc?export=download&id={file_id}\"\n",
    "\n",
    "response = requests.get(url)\n",
    "response.raise_for_status()\n",
    "\n",
    "# Read CSV into pandas DataFrame\n",
    "csv_data = StringIO(response.text)\n",
    "df = pd.read_csv(csv_data)\n",
    "\n",
    "# Create in-memory SQLite DB\n",
    "conn = sqlite3.connect(\":memory:\")\n",
    "df.to_sql(\"Recipes\", conn, index=False, if_exists=\"replace\")\n",
    "print(f\"Dataset loaded into SQL with {len(df)} rows.\")\n",
    "\n",
    "# Show first 5 rows (compact)\n",
    "display(Markdown(\"### First 5 rows (key columns only)\"))\n",
    "display(df.head())"
   ]
  },
  {
   "cell_type": "markdown",
   "id": "bc7524e8",
   "metadata": {},
   "source": [
    "With the data loaded, we’ll now apply SQL control flow and views to categorize and explore these recipes efficiently."
   ]
  },
  {
   "cell_type": "markdown",
   "id": "923350bc",
   "metadata": {},
   "source": [
    "---"
   ]
  },
  {
   "cell_type": "markdown",
   "id": "133fe7ce",
   "metadata": {},
   "source": [
    "# **Question 1**\n",
    "\n"
   ]
  },
  {
   "cell_type": "markdown",
   "id": "4d6a6fb7",
   "metadata": {},
   "source": [
    "**Lesson:** SQL Control Flow Functions (CASE Statement Basics)\n",
    "\n",
    "You’re tasked with classifying recipes from the **Breakfast** and **Beverages** categories.  \n",
    "Because drinks typically take less time to prepare than food, your execs want **different prep time categories** for each:\n",
    "\n",
    "- For **Breakfast recipes**:\n",
    "  - **Quick:** under 30 minutes  \n",
    "  - **Moderate:** 30 to 60 minutes  \n",
    "  - **Long:** over 60 minutes  \n",
    "\n",
    "- For **Beverages**:\n",
    "  - **Quick:** under 10 minutes  \n",
    "  - **Moderate:** 10 to 20 minutes  \n",
    "  - **Long:** over 20 minutes  \n",
    "\n",
    "### **Task 1**\n",
    "**Write a SQL query that:**\n",
    "\n",
    "1. Filters recipes to only those in the categories **Breakfast** and **Beverages**.  \n",
    "2. Uses a `CASE` statement to classify recipes into the correct prep categories based on their category-specific thresholds.  \n",
    "3. Shows the **top 5 recipes for each category (Breakfast Quick, Breakfast Moderate, Breakfast Long, Beverage Quick, Beverage Moderate, Beverage Long)** ordered by `TotalTime` descending.  \n",
    "4. Returns columns: `Name`, `TotalTime`, `PrepCategory`, and `RecipeCategory`.\n",
    "\n",
    "### **Draft your AI prompt to generate this query**\n",
    "\n",
    "- Clearly specify the dataset and relevant columns: `Name`, `TotalTime`, and `RecipeCategory`.  \n",
    "- Define the category-specific prep time thresholds explicitly.  \n",
    "- Specify that the query should filter for Breakfast and Beverages only.  \n",
    "- Explain the need to rank and limit the results to top 5 per category/prep level combination.  \n",
    "- Mention the expected output columns.\n",
    "\n",
    "*Use your favorite AI tool ([ChatGPT](https://chat.openai.com), [Claude](https://claude.ai), etc.) to craft the SQL query from this prompt.*\n",
    "\n",
    "\n",
    "### **(I) Paste your AI prompt below, then run your AI tool externally.**"
   ]
  },
  {
   "cell_type": "code",
   "execution_count": 90,
   "id": "f332eeb3",
   "metadata": {},
   "outputs": [
    {
     "data": {
      "application/vnd.jupyter.widget-view+json": {
       "model_id": "a02c5a7fd8eb4d15b273eceabc650fe6",
       "version_major": 2,
       "version_minor": 0
      },
      "text/plain": [
       "Textarea(value='', description='AI Prompt:', layout=Layout(height='120px', width='100%'), placeholder='Enter y…"
      ]
     },
     "metadata": {},
     "output_type": "display_data"
    },
    {
     "data": {
      "application/vnd.jupyter.widget-view+json": {
       "model_id": "5ecadacf2f4744dc9ed8c61556c8da37",
       "version_major": 2,
       "version_minor": 0
      },
      "text/plain": [
       "Output()"
      ]
     },
     "metadata": {},
     "output_type": "display_data"
    },
    {
     "data": {
      "application/vnd.jupyter.widget-view+json": {
       "model_id": "1c46f58bf0344bbf97db4da046378cee",
       "version_major": 2,
       "version_minor": 0
      },
      "text/plain": [
       "Button(button_style='success', description='Prompt Entered ✓', style=ButtonStyle())"
      ]
     },
     "metadata": {},
     "output_type": "display_data"
    }
   ],
   "source": [
    "from IPython.display import display, Markdown, clear_output\n",
    "import ipywidgets as widgets\n",
    "\n",
    "# Textarea for AI prompt input\n",
    "ai_prompt_input = widgets.Textarea(\n",
    "    value='',\n",
    "    placeholder='Enter your AI prompt here...',\n",
    "    description='AI Prompt:',\n",
    "    layout=widgets.Layout(width='100%', height='120px')\n",
    ")\n",
    "display(ai_prompt_input)\n",
    "\n",
    "# Feedback output area for prompt validation\n",
    "prompt_feedback = widgets.Output()\n",
    "display(prompt_feedback)\n",
    "\n",
    "# Button to acknowledge prompt submission\n",
    "submit_prompt_button = widgets.Button(description=\"Prompt Entered ✓\", button_style='success')\n",
    "\n",
    "def on_submit_prompt_clicked(b):\n",
    "    with prompt_feedback:\n",
    "        clear_output()\n",
    "        prompt = ai_prompt_input.value.strip()\n",
    "        if not prompt:\n",
    "            print(\"⚠️ Please enter your AI prompt before submitting.\")\n",
    "        elif len(prompt) < 150:\n",
    "            print(\"⚠️ Your prompt is too short to be effective. Try adding more detail.\")\n",
    "        else:\n",
    "            print(\"✅ Prompt looks good! Now run it with your AI tool externally and get the SQL query.\")\n",
    "            \n",
    "submit_prompt_button.on_click(on_submit_prompt_clicked)\n",
    "display(submit_prompt_button)\n"
   ]
  },
  {
   "cell_type": "markdown",
   "id": "45830f3c",
   "metadata": {},
   "source": [
    "### **(II) Paste the AI-generated SQL query below to continue.**\n"
   ]
  },
  {
   "cell_type": "code",
   "execution_count": 91,
   "id": "1ffdac12",
   "metadata": {},
   "outputs": [
    {
     "data": {
      "application/vnd.jupyter.widget-view+json": {
       "model_id": "4f620a982499442895a8bfba5af9d7e4",
       "version_major": 2,
       "version_minor": 0
      },
      "text/plain": [
       "ToggleButton(value=False, button_style='info', description='Show Expected Results', icon='eye', tooltip='Click…"
      ]
     },
     "metadata": {},
     "output_type": "display_data"
    },
    {
     "data": {
      "application/vnd.jupyter.widget-view+json": {
       "model_id": "746700b9310340eb91c9ff1b0e2c1a04",
       "version_major": 2,
       "version_minor": 0
      },
      "text/plain": [
       "Output()"
      ]
     },
     "metadata": {},
     "output_type": "display_data"
    },
    {
     "data": {
      "application/vnd.jupyter.widget-view+json": {
       "model_id": "2da38e534dd140048d7fe146cef1bf77",
       "version_major": 2,
       "version_minor": 0
      },
      "text/plain": [
       "Textarea(value='', description='SQL Query:', layout=Layout(height='120px', width='100%'), placeholder='Paste y…"
      ]
     },
     "metadata": {},
     "output_type": "display_data"
    },
    {
     "data": {
      "application/vnd.jupyter.widget-view+json": {
       "model_id": "20ec6c52183141ccac659d63a0a19626",
       "version_major": 2,
       "version_minor": 0
      },
      "text/plain": [
       "Button(button_style='success', description='Run Query', style=ButtonStyle())"
      ]
     },
     "metadata": {},
     "output_type": "display_data"
    },
    {
     "data": {
      "application/vnd.jupyter.widget-view+json": {
       "model_id": "ef81e3e6a7c54447ae347143bcda942a",
       "version_major": 2,
       "version_minor": 0
      },
      "text/plain": [
       "Output()"
      ]
     },
     "metadata": {},
     "output_type": "display_data"
    },
    {
     "data": {
      "application/vnd.jupyter.widget-view+json": {
       "model_id": "19b169585bf541e1afa421e02254c2d4",
       "version_major": 2,
       "version_minor": 0
      },
      "text/plain": [
       "Textarea(value='', description='Your Explanation:', layout=Layout(height='100px', width='100%'), placeholder='…"
      ]
     },
     "metadata": {},
     "output_type": "display_data"
    },
    {
     "data": {
      "application/vnd.jupyter.widget-view+json": {
       "model_id": "ea43923caaab47e3a928db2cd23c3071",
       "version_major": 2,
       "version_minor": 0
      },
      "text/plain": [
       "Button(button_style='primary', description='Submit Explanation', style=ButtonStyle())"
      ]
     },
     "metadata": {},
     "output_type": "display_data"
    },
    {
     "data": {
      "application/vnd.jupyter.widget-view+json": {
       "model_id": "b1ebaa8f57954b0b98a3aec632b68f22",
       "version_major": 2,
       "version_minor": 0
      },
      "text/plain": [
       "Output()"
      ]
     },
     "metadata": {},
     "output_type": "display_data"
    }
   ],
   "source": [
    "# Expected results markdown text\n",
    "expected_results_md = \"\"\"\n",
    "### Expected Results Sample\n",
    "\n",
    "| Name                   | TotalTime | PrepCategory | RecipeCategory |\n",
    "|------------------------|-----------|--------------|----------------|\n",
    "| Breakfast Casserole    | 65        | Long         | Breakfast      |\n",
    "| Pancakes               | 45        | Moderate     | Breakfast      |\n",
    "| Avocado Toast          | 20        | Quick        | Breakfast      |\n",
    "| Fresh Orange Juice     | 15        | Moderate     | Beverages      |\n",
    "| Banana Smoothie        | 8         | Quick        | Beverages      |\n",
    "| Herbal Tea             | 25        | Long         | Beverages      |\n",
    "\n",
    "\n",
    "\n",
    "*Your query should categorize recipes by `TotalTime` into `PrepCategory` as 'Quick' (<20), 'Moderate' (20-45), 'Long' (>45)*\n",
    "\"\"\"\n",
    "\n",
    "# Widget to toggle expected results\n",
    "toggle_button = widgets.ToggleButton(\n",
    "    value=False,\n",
    "    description='Show Expected Results',\n",
    "    button_style='info',\n",
    "    tooltip='Click to show/hide expected results',\n",
    "    icon='eye'\n",
    ")\n",
    "\n",
    "expected_results_output = widgets.Output()\n",
    "\n",
    "def on_toggle_change(change):\n",
    "    expected_results_output.clear_output()\n",
    "    if change['new']:\n",
    "        toggle_button.description = 'Hide Expected Results'\n",
    "        with expected_results_output:\n",
    "            display(Markdown(expected_results_md))\n",
    "    else:\n",
    "        toggle_button.description = 'Show Expected Results'\n",
    "\n",
    "toggle_button.observe(on_toggle_change, names='value')\n",
    "\n",
    "# SQL input widgets\n",
    "query_input = widgets.Textarea(\n",
    "    value='',\n",
    "    placeholder='Paste your AI-generated SQL query here...',\n",
    "    description='SQL Query:',\n",
    "    layout=widgets.Layout(width='100%', height='120px')\n",
    ")\n",
    "\n",
    "run_button = widgets.Button(description='Run Query', button_style='success')\n",
    "output = widgets.Output()\n",
    "\n",
    "def on_run_button_clicked(b):\n",
    "    with output:\n",
    "        clear_output()\n",
    "        query = query_input.value.strip()\n",
    "        if not query:\n",
    "            print(\"⚠️ Please enter your SQL query before submitting.\")\n",
    "            return\n",
    "        if len(query) < 20:\n",
    "            print(\"⚠️ Your SQL query seems too short. Please double-check your prompt or code.\")\n",
    "            return\n",
    "        try:\n",
    "            result = pd.read_sql_query(query, conn)\n",
    "            display(result)\n",
    "        except Exception as e:\n",
    "            print(f\"❌ SQL Error: {e}\")\n",
    "\n",
    "run_button.on_click(on_run_button_clicked)\n",
    "\n",
    "# Explanation text area\n",
    "explanation_input = widgets.Textarea(\n",
    "    value='',\n",
    "    placeholder='Write your explanation or reasoning for your SQL query here...',\n",
    "    description='Your Explanation:',\n",
    "    layout=widgets.Layout(width='100%', height='100px')\n",
    ")\n",
    "\n",
    "submit_explanation_btn = widgets.Button(description='Submit Explanation', button_style='primary')\n",
    "explanation_output = widgets.Output()\n",
    "\n",
    "def on_submit_explanation(b):\n",
    "    with explanation_output:\n",
    "        clear_output()\n",
    "        explanation = explanation_input.value.strip()\n",
    "        if not explanation:\n",
    "            print(\"⚠️ Explanation cannot be empty. Please share your reasoning.\")\n",
    "        else:\n",
    "            print(\"✅ Explanation submitted:\")\n",
    "            print(explanation)\n",
    "\n",
    "submit_explanation_btn.on_click(on_submit_explanation)\n",
    "\n",
    "# Display widgets in order\n",
    "display(\n",
    "    toggle_button, expected_results_output,\n",
    "    query_input, run_button, output,\n",
    "    explanation_input, submit_explanation_btn, explanation_output\n",
    ")\n",
    "\n"
   ]
  },
  {
   "cell_type": "code",
   "execution_count": null,
   "id": "3e4a75f5",
   "metadata": {},
   "outputs": [],
   "source": [
    "WITH PrepCategorized AS (\n",
    "    SELECT\n",
    "        Name,\n",
    "        TotalTime,\n",
    "        RecipeCategory,\n",
    "        CASE\n",
    "            WHEN RecipeCategory = 'Breakfast' AND TotalTime < 30 THEN 'Quick'\n",
    "            WHEN RecipeCategory = 'Breakfast' AND TotalTime BETWEEN 30 AND 60 THEN 'Moderate'\n",
    "            WHEN RecipeCategory = 'Breakfast' AND TotalTime > 60 THEN 'Long'\n",
    "            WHEN RecipeCategory = 'Beverages' AND TotalTime < 10 THEN 'Quick'\n",
    "            WHEN RecipeCategory = 'Beverages' AND TotalTime BETWEEN 10 AND 20 THEN 'Moderate'\n",
    "            WHEN RecipeCategory = 'Beverages' AND TotalTime > 20 THEN 'Long'\n",
    "        END AS PrepCategory\n",
    "    FROM Recipes\n",
    "    WHERE RecipeCategory IN ('Breakfast', 'Beverages')\n",
    ")\n",
    "SELECT *\n",
    "FROM PrepCategorized\n",
    "WHERE PrepCategory IS NOT NULL\n",
    "ORDER BY RecipeCategory, PrepCategory, TotalTime DESC;\n"
   ]
  },
  {
   "cell_type": "markdown",
   "id": "7745f260",
   "metadata": {},
   "source": [
    "### **Reflection:** \n",
    "\n",
    "Reflect on your experience using AI to help write and understand SQL control flow queries:\n",
    "\n",
    "- How did AI assist you in framing the SQL `CASE` statement? Did it generate exactly what you expected or did you need to refine your prompt?\n",
    "- Did you fully understand the AI-generated query? If not, how did you approach clarifying or debugging it?\n",
    "- What challenges did you face when interpreting AI output or results from your SQL query?\n",
    "- How did your understanding of conditional logic in SQL improve through interacting with AI?\n",
    "- How can you leverage AI as a learning partner effectively without becoming overly reliant on it?\n",
    "\n"
   ]
  },
  {
   "cell_type": "markdown",
   "id": "db59f1e2",
   "metadata": {},
   "source": [
    "---"
   ]
  },
  {
   "cell_type": "markdown",
   "id": "7cb16db5",
   "metadata": {},
   "source": [
    "# **Question 2**"
   ]
  },
  {
   "cell_type": "markdown",
   "id": "78a41073",
   "metadata": {},
   "source": [
    "**Lesson:** COALESCE for replacing NULLs.\n",
    "\n",
    "### **Task 2**\n",
    "\n",
    "- Create a SQL view on this dataset that replaces missing Description values with **\"Description not provided\"** using `COALESCE`.\n",
    "- Keep the difficulty classification logic from **Task 1**: classify recipes by `TotalTime` into categories like Easy/Medium/Hard using a `CASE` statement.\n",
    "\n",
    "**Select these columns in your view:**\n",
    "  \n",
    "  - `Name`,  \n",
    "  - `Description` (with `COALESCE` applied),  \n",
    "  - `TotalTime`,\n",
    "  - `PrepCategory` (created via `CASE` for difficulty),  \n",
    "  - `RecipeCategory`.     \n",
    "\n"
   ]
  },
  {
   "cell_type": "markdown",
   "id": "77dda9d5",
   "metadata": {},
   "source": [
    "- Filter your view to include only recipes where `RecipeCategory` is `Breakfast` or `Beverages`.\n",
    "- Use an **external AI tool** to prompt for explanations of different **SQL NULL-handling methods** (e.g.,  `COALESCE`, `IFNULL`, `ISNULL`, `CASE`).\n",
    "- Compare the AI’s explanation with your own understanding and implementation, noting any differences or insights."
   ]
  },
  {
   "cell_type": "markdown",
   "id": "0eecafe4",
   "metadata": {},
   "source": [
    "### **Example Expected SQL Query Output**"
   ]
  },
  {
   "cell_type": "code",
   "execution_count": 92,
   "id": "69d24c5a",
   "metadata": {},
   "outputs": [
    {
     "data": {
      "application/vnd.jupyter.widget-view+json": {
       "model_id": "6c25a9c545e54ec7b09bc85858eed8c2",
       "version_major": 2,
       "version_minor": 0
      },
      "text/plain": [
       "ToggleButton(value=False, button_style='info', description='Show Expected Query Output', icon='eye')"
      ]
     },
     "metadata": {},
     "output_type": "display_data"
    },
    {
     "data": {
      "application/vnd.jupyter.widget-view+json": {
       "model_id": "c056703f21de4f50876f2f4d15169d0c",
       "version_major": 2,
       "version_minor": 0
      },
      "text/plain": [
       "Output()"
      ]
     },
     "metadata": {},
     "output_type": "display_data"
    }
   ],
   "source": [
    "# Expected output example markdown\n",
    "expected_sql_output_md = \"\"\"\n",
    "\n",
    "\n",
    "| Name                   | Description                  | TotalTime | PrepCategory | RecipeCategory |\n",
    "|------------------------|------------------------------|-----------|--------------|----------------|\n",
    "| Picnic Cowboy Caviar   | Make and share this Picnic Cowboy Caviar recipe from Food.com. | 80        | Hard         | Breakfast      |\n",
    "| Banilla Splash          | Make and share this Banilla Splash recipe from Food.com.       | 3         | Easy         | Beverages      |\n",
    "| Some Missing Desc Recip | Description not provided      | 20        | Easy         | Breakfast      |\n",
    "\n",
    "\"\"\"\n",
    "\n",
    "toggle_sql_output = widgets.ToggleButton(\n",
    "    value=False,\n",
    "    description='Show Expected Query Output',\n",
    "    button_style='info',\n",
    "    icon='eye'\n",
    ")\n",
    "sql_output_box = widgets.Output()\n",
    "\n",
    "def toggle_sql_output_change(change):\n",
    "    sql_output_box.clear_output()\n",
    "    if change['new']:\n",
    "        toggle_sql_output.description = 'Hide Expected Query Output'\n",
    "        with sql_output_box:\n",
    "            display(Markdown(expected_sql_output_md))\n",
    "    else:\n",
    "        toggle_sql_output.description = 'Show Expected Query Output'\n",
    "\n",
    "toggle_sql_output.observe(toggle_sql_output_change, names='value')\n",
    "\n",
    "display(toggle_sql_output, sql_output_box)\n",
    "\n",
    "# Student SQL input widget\n",
    "student_query_input = widgets.Textarea(\n",
    "    value='',\n",
    "    placeholder='Write your SQL query here...',\n",
    "    description='Your SQL Query:',\n",
    "    layout=widgets.Layout(width='100%', height='120px')\n",
    ")\n"
   ]
  },
  {
   "cell_type": "markdown",
   "id": "da820bbb",
   "metadata": {},
   "source": [
    "### **(I) Enter Your SQL Query**"
   ]
  },
  {
   "cell_type": "code",
   "execution_count": 93,
   "id": "0ab362bc",
   "metadata": {},
   "outputs": [
    {
     "data": {
      "application/vnd.jupyter.widget-view+json": {
       "model_id": "826f6578b4bc4ce699e7bc61e55d042a",
       "version_major": 2,
       "version_minor": 0
      },
      "text/plain": [
       "VBox(children=(Label(value='Create your view'), Textarea(value='', layout=Layout(height='100px', width='100%')…"
      ]
     },
     "metadata": {},
     "output_type": "display_data"
    }
   ],
   "source": [
    "\n",
    "# Widget to CREATE the view\n",
    "create_view_input = widgets.Textarea(\n",
    "    placeholder=\"Write your SQL to CREATE VIEW here...\",\n",
    "    layout=widgets.Layout(width=\"100%\", height=\"100px\")\n",
    ")\n",
    "\n",
    "create_view_btn = widgets.Button(description=\"Create View\", button_style=\"info\")\n",
    "create_view_output = widgets.Output()\n",
    "\n",
    "def on_create_view(b):\n",
    "    create_view_output.clear_output()\n",
    "    with create_view_output:\n",
    "        sql = create_view_input.value.strip()\n",
    "        if not sql:\n",
    "            print(\"⚠️ No CREATE VIEW statement entered.\")\n",
    "            return\n",
    "        try:\n",
    "            conn.execute(sql)\n",
    "            print(\"✅ View created successfully.\")\n",
    "        except Exception as e:\n",
    "            print(f\"❌ SQL Error: {e}\")\n",
    "\n",
    "create_view_btn.on_click(on_create_view)\n",
    "\n",
    "\n",
    "# Widget to query the created view\n",
    "student_query_input = widgets.Textarea(\n",
    "    placeholder=\"Write your SQL query here (e.g., SELECT * FROM Task2_View)...\",\n",
    "    layout=widgets.Layout(width=\"100%\", height=\"120px\")\n",
    ")\n",
    "\n",
    "run_student_btn = widgets.Button(description=\"Run Your Query\", button_style=\"success\")\n",
    "student_output = widgets.Output()\n",
    "\n",
    "def run_query(query):\n",
    "    student_output.clear_output()\n",
    "    with student_output:\n",
    "        try:\n",
    "            if not query.strip():\n",
    "                print(\"⚠️ No query entered.\")\n",
    "                return\n",
    "            result = pd.read_sql_query(query, conn)\n",
    "            if result.empty:\n",
    "                print(\"⚠️ Query ran but returned no results.\")\n",
    "            else:\n",
    "                display(result.head(10))\n",
    "        except Exception as e:\n",
    "            print(f\"❌ SQL Error: {e}\")\n",
    "\n",
    "def on_run_student(b):\n",
    "    run_query(student_query_input.value)\n",
    "\n",
    "run_student_btn.on_click(on_run_student)\n",
    "\n",
    "\n",
    "# Display both sections\n",
    "display(\n",
    "    widgets.VBox([\n",
    "        widgets.Label(\"Create your view\"),\n",
    "        create_view_input, create_view_btn, create_view_output,\n",
    "        widgets.Label(\"Query your view\"),\n",
    "        student_query_input, run_student_btn, student_output\n",
    "    ])\n",
    ")\n"
   ]
  },
  {
   "cell_type": "markdown",
   "id": "e2119bd3",
   "metadata": {},
   "source": [
    "### **(II) AI’s Feedback**"
   ]
  },
  {
   "cell_type": "code",
   "execution_count": 94,
   "id": "4906ff43",
   "metadata": {},
   "outputs": [
    {
     "data": {
      "application/vnd.jupyter.widget-view+json": {
       "model_id": "1c851fd6390846009a4e6e9dec51ea55",
       "version_major": 2,
       "version_minor": 0
      },
      "text/plain": [
       "Textarea(value='', description='AI Feedback:', layout=Layout(height='120px', width='100%'), placeholder='Paste…"
      ]
     },
     "metadata": {},
     "output_type": "display_data"
    },
    {
     "data": {
      "application/vnd.jupyter.widget-view+json": {
       "model_id": "592ad534edb341dea459fe1f6efd0fef",
       "version_major": 2,
       "version_minor": 0
      },
      "text/plain": [
       "Button(button_style='primary', description='Submit AI Feedback', style=ButtonStyle())"
      ]
     },
     "metadata": {},
     "output_type": "display_data"
    },
    {
     "data": {
      "application/vnd.jupyter.widget-view+json": {
       "model_id": "97ecfdc812ba4d03bbd2a49263c32891",
       "version_major": 2,
       "version_minor": 0
      },
      "text/plain": [
       "Output()"
      ]
     },
     "metadata": {},
     "output_type": "display_data"
    }
   ],
   "source": [
    "# AI prompt for performance review\n",
    "\n",
    "ai_feedback_input = widgets.Textarea(\n",
    "    value='',\n",
    "    placeholder='Paste or write AI feedback here...',\n",
    "    description='AI Feedback:',\n",
    "    layout=widgets.Layout(width='100%', height='120px')\n",
    ")\n",
    "\n",
    "submit_ai_feedback_btn = widgets.Button(description='Submit AI Feedback', button_style='primary')\n",
    "ai_feedback_output = widgets.Output()\n",
    "\n",
    "def on_submit_ai_feedback(b):\n",
    "    ai_feedback_output.clear_output()\n",
    "    with ai_feedback_output:\n",
    "        if not ai_feedback_input.value.strip():\n",
    "            print(\"⚠️ Please enter AI feedback before submitting.\")\n",
    "        else:\n",
    "            print(\"✅ AI feedback submitted. Well done considering performance!\")\n",
    "\n",
    "submit_ai_feedback_btn.on_click(on_submit_ai_feedback)\n",
    "\n",
    "\n",
    "display(ai_feedback_input, submit_ai_feedback_btn, ai_feedback_output)"
   ]
  },
  {
   "cell_type": "code",
   "execution_count": null,
   "id": "607e1239",
   "metadata": {},
   "outputs": [],
   "source": [
    "CREATE VIEW Task2_View AS\n",
    "SELECT\n",
    "    Name,\n",
    "    COALESCE(Description, 'Description not provided') AS Description,\n",
    "    TotalTime,\n",
    "    CASE\n",
    "        WHEN TotalTime < 30 THEN 'Easy'\n",
    "        WHEN TotalTime BETWEEN 30 AND 60 THEN 'Medium'\n",
    "        ELSE 'Hard'\n",
    "    END AS PrepCategory,\n",
    "    RecipeCategory\n",
    "FROM Recipes\n",
    "WHERE RecipeCategory IN ('Breakfast', 'Beverages');\n",
    "\n",
    "\n",
    "SELECT * FROM Task2_View;\n",
    "\n"
   ]
  },
  {
   "cell_type": "markdown",
   "id": "1d5de0e9",
   "metadata": {},
   "source": [
    "#### **Reflection**\n",
    "\n",
    "Compare your query to the AI’s explanation. Where did your approach match or differ? What did you learn about handling `NULLs` with `COALESCE` versus `CASE`?\"\n"
   ]
  },
  {
   "cell_type": "markdown",
   "id": "3c53dec7",
   "metadata": {},
   "source": [
    "---"
   ]
  },
  {
   "cell_type": "markdown",
   "id": "9c1f9ea7",
   "metadata": {},
   "source": [
    "# **Question 3**"
   ]
  },
  {
   "cell_type": "markdown",
   "id": "5bb5a24f",
   "metadata": {},
   "source": [
    "**Lesson:** Mixing multiple control flow functions.\n",
    "\n",
    "### **Task 3** \n",
    "The **CFO**  wants to see the average cost estimate per difficulty level, where  `cost estimate` = `PrepTime` + `CookTime minutes`, and **\"Unknown\"** difficulty if cooking time is missing.\n",
    "\n",
    "**Write a query that:**\n",
    "\n",
    "- Uses `CASE` for difficulty classification based on `TotalTime`, with missing values showing **\"Unknown\"**\n",
    "- Uses `COALESCE` to handle missing cooking times\n",
    "- Calculates average cost estimate (`PrepTime` + `CookTime`) per difficulty level\n",
    "- Write an AI prompt that clearly requests a SQL query to solve the same problem.  \n",
    "- Run both your query and the AI-generated query to compare results.  \n",
    "- Reflect on differences, AI usefulness, and challenges you faced. \n",
    "\n"
   ]
  },
  {
   "cell_type": "markdown",
   "id": "829eaad0",
   "metadata": {},
   "source": [
    "###  **(I) Write your SQL query below.**\n"
   ]
  },
  {
   "cell_type": "markdown",
   "id": "3fc23511",
   "metadata": {},
   "source": [
    "### **Example Expected Output**"
   ]
  },
  {
   "cell_type": "code",
   "execution_count": 95,
   "id": "37462636",
   "metadata": {},
   "outputs": [
    {
     "data": {
      "application/vnd.jupyter.widget-view+json": {
       "model_id": "b23fbc65ba674ea89c5fe6416b40d5db",
       "version_major": 2,
       "version_minor": 0
      },
      "text/plain": [
       "ToggleButton(value=False, button_style='info', description='Show Expected Output', icon='eye')"
      ]
     },
     "metadata": {},
     "output_type": "display_data"
    },
    {
     "data": {
      "application/vnd.jupyter.widget-view+json": {
       "model_id": "e7ca881575bc405ca1346c6dbc6c1b1f",
       "version_major": 2,
       "version_minor": 0
      },
      "text/plain": [
       "Output()"
      ]
     },
     "metadata": {},
     "output_type": "display_data"
    },
    {
     "data": {
      "application/vnd.jupyter.widget-view+json": {
       "model_id": "a4e1643443984b2488242ddd08a8b8f4",
       "version_major": 2,
       "version_minor": 0
      },
      "text/plain": [
       "Textarea(value='', description='SQL Query:', layout=Layout(height='180px', width='100%'), placeholder='Write y…"
      ]
     },
     "metadata": {},
     "output_type": "display_data"
    },
    {
     "data": {
      "application/vnd.jupyter.widget-view+json": {
       "model_id": "d84cf60a3d244ed28b6dffad60420199",
       "version_major": 2,
       "version_minor": 0
      },
      "text/plain": [
       "Button(button_style='success', description='Run Your Query', style=ButtonStyle())"
      ]
     },
     "metadata": {},
     "output_type": "display_data"
    },
    {
     "data": {
      "application/vnd.jupyter.widget-view+json": {
       "model_id": "2cc7196b5aee47adae098a1970e85565",
       "version_major": 2,
       "version_minor": 0
      },
      "text/plain": [
       "Output()"
      ]
     },
     "metadata": {},
     "output_type": "display_data"
    }
   ],
   "source": [
    "# Example expected output for Task 3\n",
    "expected_results_md = \"\"\"\n",
    "| Difficulty | AvgCostEstimate | RecipeCount |\n",
    "|--------------|----------------|-------------|\n",
    "| Easy         | 22.5           | 18          |\n",
    "| Medium       | 45.3           | 25          |\n",
    "| Hard         | 78.9           | 10          |\n",
    "| Unknown      | 40.0           | 5           |\n",
    "\"\"\"\n",
    "\n",
    "toggle_expected = widgets.ToggleButton(\n",
    "    value=False,\n",
    "    description='Show Expected Output',\n",
    "    button_style='info',\n",
    "    icon='eye'\n",
    ")\n",
    "expected_output_box = widgets.Output()\n",
    "\n",
    "def toggle_expected_change(change):\n",
    "    expected_output_box.clear_output()\n",
    "    if change['new']:\n",
    "        toggle_expected.description = 'Hide Expected Output'\n",
    "        with expected_output_box:\n",
    "            display(Markdown(expected_results_md))\n",
    "    else:\n",
    "        toggle_expected.description = 'Show Expected Output'\n",
    "\n",
    "toggle_expected.observe(toggle_expected_change, names='value')\n",
    "\n",
    "display(toggle_expected, expected_output_box)\n",
    "\n",
    "\n",
    "# Student SQL input widget\n",
    "student_query_input = widgets.Textarea(\n",
    "    value='',\n",
    "    placeholder='Write your SQL query here...',\n",
    "    description='SQL Query:',\n",
    "    layout=widgets.Layout(width='100%', height='180px')\n",
    ")\n",
    "\n",
    "run_student_btn = widgets.Button(description='Run Your Query', button_style='success')\n",
    "student_output = widgets.Output()\n",
    "\n",
    "\n",
    "# Function to run student's query\n",
    "def run_student_query(b):\n",
    "    student_output.clear_output()\n",
    "    with student_output:\n",
    "        query = student_query_input.value.strip()\n",
    "        if not query:\n",
    "            print(\"⚠️ Please enter your SQL query.\")\n",
    "            return\n",
    "        if len(query) < 20:\n",
    "            print(\"⚠️ Query too short or incomplete.\")\n",
    "            return\n",
    "        try:\n",
    "            result = pd.read_sql_query(query, conn)\n",
    "            if result.empty:\n",
    "                print(\"⚠️ Query returned no results. Check filters or grouping conditions.\")\n",
    "            else:\n",
    "                display(result.head(10))\n",
    "        except Exception as e:\n",
    "            print(f\"❌ SQL Error: {e}\")\n",
    "\n",
    "run_student_btn.on_click(run_student_query)\n",
    "\n",
    "display(student_query_input, run_student_btn, student_output)\n"
   ]
  },
  {
   "cell_type": "markdown",
   "id": "6118e991",
   "metadata": {},
   "source": [
    "### **(II) Write your AI prompt.**"
   ]
  },
  {
   "cell_type": "code",
   "execution_count": 96,
   "id": "c9ca79c0",
   "metadata": {},
   "outputs": [
    {
     "data": {
      "application/vnd.jupyter.widget-view+json": {
       "model_id": "c6bd7beaaa7c4a2bb92804ebead996a7",
       "version_major": 2,
       "version_minor": 0
      },
      "text/plain": [
       "ToggleButton(value=False, button_style='info', description='Show Example AI Prompt', icon='eye')"
      ]
     },
     "metadata": {},
     "output_type": "display_data"
    },
    {
     "data": {
      "application/vnd.jupyter.widget-view+json": {
       "model_id": "9eede10539434393aec541d9337dd1b9",
       "version_major": 2,
       "version_minor": 0
      },
      "text/plain": [
       "Output()"
      ]
     },
     "metadata": {},
     "output_type": "display_data"
    },
    {
     "data": {
      "application/vnd.jupyter.widget-view+json": {
       "model_id": "58a6e762b6e24f329f583f581c6d2200",
       "version_major": 2,
       "version_minor": 0
      },
      "text/plain": [
       "Textarea(value='', description='AI SQL Query:', layout=Layout(height='120px', width='100%'), placeholder='Past…"
      ]
     },
     "metadata": {},
     "output_type": "display_data"
    },
    {
     "data": {
      "application/vnd.jupyter.widget-view+json": {
       "model_id": "44b8c5ef58fd4efe800081aaa69a80a8",
       "version_major": 2,
       "version_minor": 0
      },
      "text/plain": [
       "Button(button_style='info', description='Run AI Query', style=ButtonStyle())"
      ]
     },
     "metadata": {},
     "output_type": "display_data"
    },
    {
     "data": {
      "application/vnd.jupyter.widget-view+json": {
       "model_id": "3c091f6ee5e14fa3bf9bfd7235fe857a",
       "version_major": 2,
       "version_minor": 0
      },
      "text/plain": [
       "Output()"
      ]
     },
     "metadata": {},
     "output_type": "display_data"
    }
   ],
   "source": [
    "# Example instructions\n",
    "ai_prompt_instructions = \"\"\"\n",
    "**Example AI prompt:**  \n",
    "\n",
    "- I want to calculate the average `PrepTime` + `CookTime` per difficulty level in SQLite.\n",
    " - Use a `CASE` statement to classify difficulty (Easy, Medium, Hard, \"Unknown\" if TotalTime is missing).\n",
    "- Use `COALESCE` to handle missing `PrepTime` or `CookTime`.\n",
    "- Explain the approach.\n",
    "\"\"\"\n",
    "\n",
    "# Toggle to show/hide example\n",
    "toggle_ai_prompt = widgets.ToggleButton(\n",
    "    value=False,\n",
    "    description='Show Example AI Prompt',\n",
    "    button_style='info',\n",
    "    icon='eye'\n",
    ")\n",
    "ai_prompt_box = widgets.Output()\n",
    "\n",
    "def toggle_ai_prompt_change(change):\n",
    "    ai_prompt_box.clear_output()\n",
    "    if change['new']:\n",
    "        toggle_ai_prompt.description = 'Hide Example AI Prompt'\n",
    "        with ai_prompt_box:\n",
    "            display(Markdown(ai_prompt_instructions))\n",
    "    else:\n",
    "        toggle_ai_prompt.description = 'Show Example AI Prompt'\n",
    "\n",
    "toggle_ai_prompt.observe(toggle_ai_prompt_change, names='value')\n",
    "display(toggle_ai_prompt, ai_prompt_box)\n",
    "\n",
    "# AI prompt input widget\n",
    "ai_prompt_input = widgets.Textarea(\n",
    "    value='',\n",
    "    placeholder='Paste your AI-generated query here...',\n",
    "    description='AI SQL Query:',\n",
    "    layout=widgets.Layout(width='100%', height='120px')\n",
    ")\n",
    "\n",
    "# AI Query run button & output\n",
    "run_ai_btn = widgets.Button(description='Run AI Query', button_style='info')\n",
    "ai_output = widgets.Output()\n",
    "\n",
    "def run_query(query, output_widget):\n",
    "    output_widget.clear_output()\n",
    "    with output_widget:\n",
    "        try:\n",
    "            if not query.strip():\n",
    "                print(\"⚠️ No query entered.\")\n",
    "                return\n",
    "            if len(query.strip()) < 20:\n",
    "                print(\"⚠️ Query too short or incomplete.\")\n",
    "                return\n",
    "            result = pd.read_sql_query(query, conn)\n",
    "            if result.empty:\n",
    "                print(\"⚠️ Query ran but returned no results.\")\n",
    "            else:\n",
    "                display(result.head(10))\n",
    "        except Exception as e:\n",
    "            print(f\"❌ SQL Error: {e}\")\n",
    "\n",
    "def on_run_ai(b):\n",
    "    ai_output.clear_output()\n",
    "    with ai_output:\n",
    "        print(\"⚠️ Please paste your AI-generated SQL query into the 'Your SQL Query' box and run it.\") \n",
    "\n",
    "run_ai_btn.on_click(on_run_ai)\n",
    "\n",
    "display(ai_prompt_input, run_ai_btn, ai_output)\n"
   ]
  },
  {
   "cell_type": "code",
   "execution_count": null,
   "id": "6c287f01",
   "metadata": {},
   "outputs": [],
   "source": [
    "SELECT\n",
    "    CASE\n",
    "        WHEN TotalTime IS NULL THEN 'Unknown'\n",
    "        WHEN TotalTime < 30 THEN 'Easy'\n",
    "        WHEN TotalTime BETWEEN 30 AND 60 THEN 'Medium'\n",
    "        ELSE 'Hard'\n",
    "    END AS Difficulty,\n",
    "    AVG(COALESCE(PrepTime,0) + COALESCE(CookTime,0)) AS AvgCostEstimate,\n",
    "    COUNT(*) AS RecipeCount\n",
    "FROM Recipes\n",
    "GROUP BY Difficulty\n",
    "ORDER BY AvgCostEstimate DESC;\n"
   ]
  },
  {
   "cell_type": "markdown",
   "id": "7bdef334",
   "metadata": {},
   "source": [
    "####  **Reflection**"
   ]
  },
  {
   "cell_type": "markdown",
   "id": "9aca1289",
   "metadata": {},
   "source": [
    "- How did using `CASE` and `COALESCE` together help handle missing `TotalTime` or `CookTime` values?\n",
    "- Compare your query results with the AI-generated query. Were there any differences in logic, output, or handling of missing data?\n",
    "- Which approach (your own or AI-generated) was easier to reason about, and why?\n",
    "- What challenges did you encounter when combining multiple control flow functions, and how did you resolve them?\n",
    "- What did this task teach you about using AI as a collaborator versus relying solely on your own SQL reasoning?"
   ]
  },
  {
   "cell_type": "markdown",
   "id": "d4dde2e4",
   "metadata": {},
   "source": [
    "---"
   ]
  },
  {
   "cell_type": "markdown",
   "id": "fef9ccac",
   "metadata": {},
   "source": [
    "# **Question 4**"
   ]
  },
  {
   "cell_type": "markdown",
   "id": "fdb51542",
   "metadata": {},
   "source": [
    "**Lesson:**  Creating and updating SQL views.\n",
    "\n",
    "### **Task 4** \n",
    "\n",
    "The **CEO**  wants a permanent recipe_overview view combining difficulty, null-safe descriptions, and average ratings.\n",
    "\n",
    "Create a persistent view using logic from previous tasks.\n",
    "\n",
    "**Your task:** \n",
    "\n",
    "- Create a persistent **SQL view**  using the logic from **previous tasks** .\n",
    "\n",
    "**Include at least:** \n",
    "\n",
    "- One control flow function (`CASE`, `IF`, etc.)\n",
    "- One null-handling function (`COALESCE`, `NULLIF`, etc.)\n",
    "- Use an external AI tool to draft a **CREATE VIEW**  statement, then compare it with your own implementation. \n",
    "- Check whether the AI’s draft includes all required column.\n",
    "- Use `COALESCE()` (or another null-handling function) to replace missing descriptions.\n",
    "- Classify recipes as **Easy**, **Medium**, or **Hard** based on `TotalTime` using a control flow function (`CASE`).\n",
    "- Calculate the average rating per difficulty level.\n",
    "\n",
    "**Hints / Approach**\n",
    "\n",
    "- Think about **which columns can have NULL values** and use `COALESCE()` to handle them.\n",
    "- Use a **CASE statement** to assign `PrepCategory` based on `TotalTime`.\n",
    "- Aggregate ratings using **AVG()** grouped by difficulty or recipe.\n",
    "- Combine all logic into a **persistent view** so the data can be queried easily by other analysts or dashboards.\n",
    "  \n",
    "    \n",
    "  \n",
    "⚠️ **Do not just copy-paste a query.**  \n",
    "> Focus on planning your approach:  \n",
    "> - Identify the transformations needed  \n",
    "> - Decide where null handling is required  \n",
    "> - Determine how to classify and aggregate"
   ]
  },
  {
   "cell_type": "markdown",
   "id": "7238fad8",
   "metadata": {},
   "source": [
    "### **(II) Write your AI prompt.**"
   ]
  },
  {
   "cell_type": "code",
   "execution_count": 97,
   "id": "34908c00",
   "metadata": {},
   "outputs": [
    {
     "data": {
      "application/vnd.jupyter.widget-view+json": {
       "model_id": "1dc3a1fdb5e54f19b40ece3b01fcb07a",
       "version_major": 2,
       "version_minor": 0
      },
      "text/plain": [
       "ToggleButton(value=False, button_style='info', description='Show Expected Results', icon='eye', tooltip='Click…"
      ]
     },
     "metadata": {},
     "output_type": "display_data"
    },
    {
     "data": {
      "application/vnd.jupyter.widget-view+json": {
       "model_id": "72690bdd0efa44b8ad8cd81e5e74d1ce",
       "version_major": 2,
       "version_minor": 0
      },
      "text/plain": [
       "Output()"
      ]
     },
     "metadata": {},
     "output_type": "display_data"
    },
    {
     "data": {
      "application/vnd.jupyter.widget-view+json": {
       "model_id": "1225927bb3e540c8b117c09b332dbd88",
       "version_major": 2,
       "version_minor": 0
      },
      "text/plain": [
       "ToggleButton(value=False, button_style='info', description='Show Example AI Prompt', icon='eye')"
      ]
     },
     "metadata": {},
     "output_type": "display_data"
    },
    {
     "data": {
      "application/vnd.jupyter.widget-view+json": {
       "model_id": "784646fb0920428788ff1906716dbd69",
       "version_major": 2,
       "version_minor": 0
      },
      "text/plain": [
       "Output()"
      ]
     },
     "metadata": {},
     "output_type": "display_data"
    }
   ],
   "source": [
    "import ipywidgets as widgets\n",
    "from IPython.display import display, Markdown, clear_output\n",
    "import pandas as pd\n",
    "\n",
    "# ===============================\n",
    "# Expected Results Markdown\n",
    "# ===============================\n",
    "expected_results_md = \"\"\"\n",
    "### Expected Results Sample\n",
    "\n",
    "| Name                       | Description                 | TotalTime | PrepCategory | RecipeCategory | AvgRating |\n",
    "|----------------------------|----------------------------|-----------|--------------|----------------|-----------|\n",
    "| Picnic Cowboy Caviar       | Make and share this Picnic | 80        | Medium       | Black Beans    | 4.0       |\n",
    "| Turkey Schnitzel With Tots | Make and share this Turkey | 40        | Easy         | Poultry        | 5.3       |\n",
    "| Banilla Splash             | Make and share this Banilla| 6         | Easy         | Beverages      | 5.0       |\n",
    "\"\"\"\n",
    "\n",
    "# Toggle button for expected results\n",
    "toggle_button = widgets.ToggleButton(\n",
    "    value=False,\n",
    "    description='Show Expected Results',\n",
    "    button_style='info',\n",
    "    tooltip='Click to show/hide expected results',\n",
    "    icon='eye'\n",
    ")\n",
    "expected_results_output = widgets.Output()\n",
    "\n",
    "def on_toggle_change(change):\n",
    "    expected_results_output.clear_output()\n",
    "    if change['new']:\n",
    "        toggle_button.description = 'Hide Expected Results'\n",
    "        with expected_results_output:\n",
    "            display(Markdown(expected_results_md))\n",
    "    else:\n",
    "        toggle_button.description = 'Show Expected Results'\n",
    "\n",
    "toggle_button.observe(on_toggle_change, names='value')\n",
    "display(toggle_button, expected_results_output)\n",
    "\n",
    "\n",
    "# ===============================\n",
    "# Example AI Prompt\n",
    "# ===============================\n",
    "ai_prompt_instructions = \"\"\"\n",
    "**Example prompt:**  \n",
    "\n",
    "I want to create a persistent SQL view called `recipe_overview` in SQLite that summarizes recipes.\n",
    "\n",
    "**Requirements**\n",
    "- Include **Name**, **Description**, **TotalTime**, **PrepCategory** (difficulty via `CASE`), **RecipeCategory**, and **AggregatedRating**.\n",
    "- Use **`COALESCE`** (or another null-handling function) to replace missing descriptions.\n",
    "- Classify recipes by difficulty (**Easy**, **Medium**, **Hard**) using a control flow function.\n",
    "- Show how to calculate the **average rating per difficulty level**.\n",
    "\n",
    "**Approach**\n",
    "Explain your approach without giving me a copy-paste query.\n",
    "\"\"\"\n",
    "\n",
    "toggle_ai_prompt = widgets.ToggleButton(\n",
    "    value=False,\n",
    "    description='Show Example AI Prompt',\n",
    "    button_style='info',\n",
    "    icon='eye'\n",
    ")\n",
    "ai_prompt_box = widgets.Output()\n",
    "\n",
    "def toggle_ai_prompt_change(change):\n",
    "    ai_prompt_box.clear_output()\n",
    "    if change['new']:\n",
    "        toggle_ai_prompt.description = 'Hide Example AI Prompt'\n",
    "        with ai_prompt_box:\n",
    "            display(Markdown(ai_prompt_instructions))\n",
    "    else:\n",
    "        toggle_ai_prompt.description = 'Show Example AI Prompt'\n",
    "\n",
    "toggle_ai_prompt.observe(toggle_ai_prompt_change, names='value')\n",
    "display(toggle_ai_prompt, ai_prompt_box)\n"
   ]
  },
  {
   "cell_type": "code",
   "execution_count": 98,
   "id": "12878698",
   "metadata": {},
   "outputs": [
    {
     "data": {
      "application/vnd.jupyter.widget-view+json": {
       "model_id": "3f335451d9784efb8681a27cbb967c50",
       "version_major": 2,
       "version_minor": 0
      },
      "text/plain": [
       "VBox(children=(Label(value='Create your view'), Textarea(value='', layout=Layout(height='100px', width='100%')…"
      ]
     },
     "metadata": {},
     "output_type": "display_data"
    }
   ],
   "source": [
    "# Widget to CREATE the view\n",
    "create_view_input = widgets.Textarea(\n",
    "    placeholder=\"Write your SQL to CREATE VIEW here...\",\n",
    "    layout=widgets.Layout(width=\"100%\", height=\"100px\")\n",
    ")\n",
    "\n",
    "create_view_btn = widgets.Button(description=\"Create View\", button_style=\"info\")\n",
    "create_view_output = widgets.Output()\n",
    "\n",
    "def on_create_view(b):\n",
    "    create_view_output.clear_output()\n",
    "    with create_view_output:\n",
    "        sql = create_view_input.value.strip()\n",
    "        if not sql:\n",
    "            print(\"⚠️ No CREATE VIEW statement entered.\")\n",
    "            return\n",
    "        try:\n",
    "            conn.execute(sql)\n",
    "            print(\"✅ View created successfully.\")\n",
    "        except Exception as e:\n",
    "            print(f\"❌ SQL Error: {e}\")\n",
    "\n",
    "create_view_btn.on_click(on_create_view)\n",
    "\n",
    "\n",
    "# Widget to query the created view\n",
    "student_query_input = widgets.Textarea(\n",
    "    placeholder=\"Write your SQL query here (e.g., SELECT * FROM Task2_View)...\",\n",
    "    layout=widgets.Layout(width=\"100%\", height=\"120px\")\n",
    ")\n",
    "\n",
    "run_student_btn = widgets.Button(description=\"Run Your Query\", button_style=\"success\")\n",
    "student_output = widgets.Output()\n",
    "\n",
    "def run_query(query):\n",
    "    student_output.clear_output()\n",
    "    with student_output:\n",
    "        try:\n",
    "            if not query.strip():\n",
    "                print(\"⚠️ No query entered.\")\n",
    "                return\n",
    "            result = pd.read_sql_query(query, conn)\n",
    "            if result.empty:\n",
    "                print(\"⚠️ Query ran but returned no results.\")\n",
    "            else:\n",
    "                display(result.head(10))\n",
    "        except Exception as e:\n",
    "            print(f\"❌ SQL Error: {e}\")\n",
    "\n",
    "def on_run_student(b):\n",
    "    run_query(student_query_input.value)\n",
    "\n",
    "run_student_btn.on_click(on_run_student)\n",
    "\n",
    "\n",
    "# Display both sections\n",
    "display(\n",
    "    widgets.VBox([\n",
    "        widgets.Label(\"Create your view\"),\n",
    "        create_view_input, create_view_btn, create_view_output,\n",
    "        widgets.Label(\"Query your view\"),\n",
    "        student_query_input, run_student_btn, student_output\n",
    "    ])\n",
    ")\n",
    "\n",
    "\n"
   ]
  },
  {
   "cell_type": "code",
   "execution_count": null,
   "id": "9f3c49a8",
   "metadata": {},
   "outputs": [],
   "source": [
    "CREATE VIEW recipe_overview AS\n",
    "SELECT\n",
    "    Name,\n",
    "    COALESCE(Description, 'Description not provided') AS Description,\n",
    "    TotalTime,\n",
    "    CASE\n",
    "        WHEN TotalTime IS NULL THEN 'Unknown'\n",
    "        WHEN TotalTime < 30 THEN 'Easy'\n",
    "        WHEN TotalTime BETWEEN 30 AND 60 THEN 'Medium'\n",
    "        ELSE 'Hard'\n",
    "    END AS PrepCategory,\n",
    "    RecipeCategory,\n",
    "    AVG(AggregatedRating) OVER (\n",
    "        PARTITION BY \n",
    "            CASE\n",
    "                WHEN TotalTime IS NULL THEN 'Unknown'\n",
    "                WHEN TotalTime < 30 THEN 'Easy'\n",
    "                WHEN TotalTime BETWEEN 30 AND 60 THEN 'Medium'\n",
    "                ELSE 'Hard'\n",
    "            END\n",
    "    ) AS AvgRating\n",
    "FROM Recipes;\n",
    "\n",
    "\n",
    "\n",
    "\n",
    "-- Select data from the recipe_overview view\n",
    "SELECT * FROM recipe_overview;\n",
    "\n"
   ]
  },
  {
   "cell_type": "markdown",
   "id": "cee4224c",
   "metadata": {},
   "source": [
    "#### **Reflection**\n",
    "\n",
    "- How did you verify that the AI’s draft included all required columns and logic?\n",
    "- Did the AI’s use of `CASE` and `COALESCE` match your expectations? If not, what did you change?\n",
    "- Was the AI’s clause order and syntax compatible with SQLite specifically?\n",
    "- If the AI’s solution ran without errors but gave unexpected results, what debugging steps did you take?\n",
    "- What’s the risk of over-relying on AI output for multi-requirement SQL queries?\n",
    "\n",
    "\n"
   ]
  },
  {
   "cell_type": "markdown",
   "id": "3f0334c7",
   "metadata": {},
   "source": [
    "---"
   ]
  },
  {
   "cell_type": "markdown",
   "id": "2584e3ed",
   "metadata": {},
   "source": [
    "# **Question 5**"
   ]
  },
  {
   "cell_type": "markdown",
   "id": "c9a4e501",
   "metadata": {},
   "source": [
    "**Lesson:** Complex Views with Multiple Control Flow Layers\n",
    "\n",
    "### **Task 5** \n",
    "\n",
    "The executive team wants a single permanent SQL view that satisfies the needs of all four stakeholders:\n",
    "\n",
    "- **Head Chef** — Classify each recipe’s difficulty level.  \n",
    "- **Marketing Director** — Replace missing descriptions with a placeholder.  \n",
    "- **CFO** — Label each recipe as `\"Budget\"` or `\"Premium\"` based on cost thresholds.  \n",
    "- **CEO** — Add an `\"Attention Needed\"` flag for recipes with low ratings **and** missing descriptions.  \n",
    "\n",
    "**Task**\n",
    "- Create **one persistent view** that includes **all four logic layers**.\n",
    "- Use **at least two distinct `CASE` statements** (they can be nested or sequential).\n",
    "- Incorporate a **null-handling function** where applicable.\n",
    "  \n",
    "\n",
    "> ⚠️ **Note:** Focus on structuring your logic so each stakeholder’s requirement is met in a single query.\n",
    "\n"
   ]
  },
  {
   "cell_type": "markdown",
   "id": "d31990fe",
   "metadata": {},
   "source": [
    "### **Expected Output Sample for `executive_report` View**"
   ]
  },
  {
   "cell_type": "code",
   "execution_count": 99,
   "id": "8fb05ecc",
   "metadata": {},
   "outputs": [
    {
     "data": {
      "application/vnd.jupyter.widget-view+json": {
       "model_id": "b19f57f03979449191f00dff3e1be600",
       "version_major": 2,
       "version_minor": 0
      },
      "text/plain": [
       "ToggleButton(value=False, button_style='info', description='Show Expected Output', icon='eye')"
      ]
     },
     "metadata": {},
     "output_type": "display_data"
    },
    {
     "data": {
      "application/vnd.jupyter.widget-view+json": {
       "model_id": "56b5801abcd44628b26994ca6846cadb",
       "version_major": 2,
       "version_minor": 0
      },
      "text/plain": [
       "Output()"
      ]
     },
     "metadata": {},
     "output_type": "display_data"
    }
   ],
   "source": [
    "# Expected output markdown (example for Task 5's view)\n",
    "expected_output_md = \"\"\"\n",
    "\n",
    "\n",
    "| Name                           | Description                          | TotalTime | PrepCategory | RecipeCategory | CostLabel | AttentionNeeded | AvgRating |\n",
    "| ------------------------------ | ------------------------------------ | --------- | ------------ | -------------- | --------- | --------------- | --------- |\n",
    "| Picnic Cowboy Caviar           | Make and share this Picnic ...       | 80        | Medium       | Black Beans    | Budget    | No              | 4.0       |\n",
    "| Turkey Schnitzel With Tots ... | Make and share this Turkey ...       | 40        | Easy         | Poultry        | Premium   | No              | 5.3       |\n",
    "| Banilla Splash                 | Make and share this Banilla ...      | 6         | Easy         | Beverages      | Budget    | No              | 5.0       |\n",
    "| Mystery Smoothie               | NULL                                 | 15        | Easy         | Beverages      | Budget    | Yes             | 3.2       |\n",
    "| Vegan Lasagna                  | Make and share this Vegan Lasagna... | 90        | Hard         | Vegetarian     | Premium   | No              | 4.5       |\n",
    "\n",
    "\"\"\"\n",
    "\n",
    "expected_output_toggle = widgets.ToggleButton(\n",
    "    value=False,\n",
    "    description='Show Expected Output',\n",
    "    button_style='info',\n",
    "    icon='eye'\n",
    ")\n",
    "\n",
    "expected_output_display = widgets.Output()\n",
    "\n",
    "def toggle_expected_output(change):\n",
    "    expected_output_display.clear_output()\n",
    "    if change['new']:\n",
    "        expected_output_toggle.description = 'Hide Expected Output'\n",
    "        with expected_output_display:\n",
    "            display(Markdown(expected_output_md))\n",
    "    else:\n",
    "        expected_output_toggle.description = 'Show Expected Output'\n",
    "\n",
    "expected_output_toggle.observe(toggle_expected_output, names='value')\n",
    "\n",
    "display(expected_output_toggle, expected_output_display)"
   ]
  },
  {
   "cell_type": "code",
   "execution_count": 100,
   "id": "160ebb8c",
   "metadata": {},
   "outputs": [
    {
     "data": {
      "application/vnd.jupyter.widget-view+json": {
       "model_id": "9a99f4f6b5104e59b9667fd1c9c68720",
       "version_major": 2,
       "version_minor": 0
      },
      "text/plain": [
       "VBox(children=(Label(value='Create your view'), Textarea(value='', layout=Layout(height='100px', width='100%')…"
      ]
     },
     "metadata": {},
     "output_type": "display_data"
    }
   ],
   "source": [
    "# Widget to CREATE the view\n",
    "create_view_input = widgets.Textarea(\n",
    "    placeholder=\"Write your SQL to CREATE VIEW here...\",\n",
    "    layout=widgets.Layout(width=\"100%\", height=\"100px\")\n",
    ")\n",
    "\n",
    "create_view_btn = widgets.Button(description=\"Create View\", button_style=\"info\")\n",
    "create_view_output = widgets.Output()\n",
    "\n",
    "def on_create_view(b):\n",
    "    create_view_output.clear_output()\n",
    "    with create_view_output:\n",
    "        sql = create_view_input.value.strip()\n",
    "        if not sql:\n",
    "            print(\"⚠️ No CREATE VIEW statement entered.\")\n",
    "            return\n",
    "        try:\n",
    "            conn.execute(sql)\n",
    "            print(\"✅ View created successfully.\")\n",
    "        except Exception as e:\n",
    "            print(f\"❌ SQL Error: {e}\")\n",
    "\n",
    "create_view_btn.on_click(on_create_view)\n",
    "\n",
    "\n",
    "# Widget to query the created view\n",
    "student_query_input = widgets.Textarea(\n",
    "    placeholder=\"Write your SQL query here (e.g., SELECT * FROM Task2_View)...\",\n",
    "    layout=widgets.Layout(width=\"100%\", height=\"120px\")\n",
    ")\n",
    "\n",
    "run_student_btn = widgets.Button(description=\"Run Your Query\", button_style=\"success\")\n",
    "student_output = widgets.Output()\n",
    "\n",
    "def run_query(query):\n",
    "    student_output.clear_output()\n",
    "    with student_output:\n",
    "        try:\n",
    "            if not query.strip():\n",
    "                print(\"⚠️ No query entered.\")\n",
    "                return\n",
    "            result = pd.read_sql_query(query, conn)\n",
    "            if result.empty:\n",
    "                print(\"⚠️ Query ran but returned no results.\")\n",
    "            else:\n",
    "                display(result.head(10))\n",
    "        except Exception as e:\n",
    "            print(f\"❌ SQL Error: {e}\")\n",
    "\n",
    "def on_run_student(b):\n",
    "    run_query(student_query_input.value)\n",
    "\n",
    "run_student_btn.on_click(on_run_student)\n",
    "\n",
    "\n",
    "# Display both sections\n",
    "display(\n",
    "    widgets.VBox([\n",
    "        widgets.Label(\"Create your view\"),\n",
    "        create_view_input, create_view_btn, create_view_output,\n",
    "        widgets.Label(\"Query your view\"),\n",
    "        student_query_input, run_student_btn, student_output\n",
    "    ])\n",
    ")\n",
    "\n",
    "\n"
   ]
  },
  {
   "cell_type": "code",
   "execution_count": null,
   "id": "3a7622b8",
   "metadata": {},
   "outputs": [],
   "source": [
    "DROP VIEW IF EXISTS recipe_overview;\n",
    "\n",
    "CREATE VIEW recipe_overview AS\n",
    "SELECT\n",
    "    Name,\n",
    "    COALESCE(Description, 'Description not provided') AS Description,\n",
    "    TotalTime,\n",
    "    CASE\n",
    "        WHEN TotalTime IS NULL THEN 'Unknown'\n",
    "        WHEN TotalTime < 30 THEN 'Easy'\n",
    "        WHEN TotalTime BETWEEN 30 AND 60 THEN 'Medium'\n",
    "        ELSE 'Hard'\n",
    "    END AS PrepCategory,\n",
    "    RecipeCategory,\n",
    "    AVG(AggregatedRating) OVER (\n",
    "        PARTITION BY \n",
    "            CASE\n",
    "                WHEN TotalTime IS NULL THEN 'Unknown'\n",
    "                WHEN TotalTime < 30 THEN 'Easy'\n",
    "                WHEN TotalTime BETWEEN 30 AND 60 THEN 'Medium'\n",
    "                ELSE 'Hard'\n",
    "            END\n",
    "    ) AS AvgRating\n",
    "FROM Recipes;\n",
    "\n",
    "\n",
    "\n",
    "\n",
    "-- Select data from the recipe_overview view\n",
    "SELECT * FROM recipe_overview;\n",
    "\n"
   ]
  },
  {
   "cell_type": "markdown",
   "id": "5e0e85dd",
   "metadata": {},
   "source": [
    "#### **Reflection**"
   ]
  },
  {
   "cell_type": "markdown",
   "id": "e727d80f",
   "metadata": {},
   "source": [
    "- Which stakeholder’s requirement was the most difficult to implement and why?  \n",
    "- How did you decide where to nest your `CASE` statements versus keeping them separate?  \n",
    "- Did your null-handling logic interfere with the CEO’s `\"Attention Needed\"` flag? If yes, how did you fix it?  \n",
    "- If the CFO later changes the cost threshold, which parts of your view would you need to update?\n",
    "- If you had used AI for this task, how might it have helped you plan or draft the multi-layer view?\n",
    "- Would AI have suggested any logic or structure you hadn’t considered? What would you need to **critically evaluate** if you relied on AI output?"
   ]
  },
  {
   "cell_type": "markdown",
   "id": "dc068f5a",
   "metadata": {},
   "source": [
    "Congratulations! 🎉 You’ve completed all five tasks in this series, tackling real-world SQL challenges designed to mirror the workflow of a multi-role executive team.\n",
    "\n",
    "\n",
    "\n",
    "**What You’ve Achieved**\n",
    "\n",
    "- Applied **control flow functions** (`CASE`, `COALESCE`) to classify, flag, and handle missing data.  \n",
    "- Built **persistent views** that consolidate complex logic for multiple stakeholders.  \n",
    "- Learned to **critically compare AI-generated SQL** with your own queries, spotting differences and validating results.  \n",
    "- Practiced **null-handling strategies**, nested `CASE` statements, and multi-layered query design.  \n",
    "- Gained experience thinking like **executives, data engineers, and analysts simultaneously**, balancing business rules with technical logic.  \n",
    "\n",
    "\n",
    "\n",
    "**Next Steps**\n",
    "\n",
    "- Review your **queries and reflections**, focusing on decisions where AI could have helped or might have introduced pitfalls.  \n",
    "- Apply these patterns to new datasets: classify, aggregate, handle nulls, and build executive-ready views.  \n",
    "- Experiment with **optimizing your queries** while maintaining correctness for multiple stakeholder requirements.  \n",
    "\n",
    "**Tip:** The interplay between human reasoning and AI assistance is a key skill, AI can suggest solutions, but **critical thinking ensures accuracy, clarity, and alignment with business rules**.\n"
   ]
  },
  {
   "cell_type": "markdown",
   "id": "57d522c9",
   "metadata": {},
   "source": [
    "![Done](https://raw.githubusercontent.com/DesmondMokhali/sql-controlflow-views/main/mcq%20round%20table.jpg)\n"
   ]
  },
  {
   "cell_type": "markdown",
   "id": "6a830352",
   "metadata": {},
   "source": [
    "#### **Self-Assessment Checklist**"
   ]
  },
  {
   "cell_type": "code",
   "execution_count": 115,
   "id": "6a3187da",
   "metadata": {},
   "outputs": [
    {
     "data": {
      "application/vnd.jupyter.widget-view+json": {
       "model_id": "88b11f4b048c47cc91091cedb261ce66",
       "version_major": 2,
       "version_minor": 0
      },
      "text/plain": [
       "VBox(children=(Checkbox(value=False, description='I correctly used CASE statements for multiple stakeholders',…"
      ]
     },
     "metadata": {},
     "output_type": "display_data"
    },
    {
     "data": {
      "application/vnd.jupyter.widget-view+json": {
       "model_id": "197e8d131d4a4d3abf1eb8275a30f535",
       "version_major": 2,
       "version_minor": 0
      },
      "text/plain": [
       "Output()"
      ]
     },
     "metadata": {},
     "output_type": "display_data"
    }
   ],
   "source": [
    "# Self-assessment checklist\n",
    "checklist_options = [\n",
    "    \"I correctly used CASE statements for multiple stakeholders\",\n",
    "    \"I handled NULL values effectively using COALESCE or similar functions\",\n",
    "    \"I compared my queries with AI output and reflected critically\",\n",
    "    \"I built persistent views consolidating multiple business rules\",\n",
    "    \"I understand how query logic affects different executive requirements\"\n",
    "]\n",
    "\n",
    "checkboxes = [widgets.Checkbox(value=False, description=opt, indent=False) for opt in checklist_options]\n",
    "output_msg = widgets.Output()\n",
    "\n",
    "def check_all(change):\n",
    "    if all(cb.value for cb in checkboxes):\n",
    "        with output_msg:\n",
    "            clear_output()\n",
    "            display(HTML(\n",
    "                '<b style=\"color:green\">'\n",
    "                '🎉 Great job! You have completed the self-assessment checklist for this lesson on multi-layer SQL views and null-handling. '\n",
    "                'You’ve practiced combining control flow logic, handling missing data, and designing executive-ready queries!'\n",
    "                '</b>'\n",
    "            ))\n",
    "    else:\n",
    "        with output_msg:\n",
    "            clear_output()\n",
    "\n",
    "# Attach the observer to all checkboxes\n",
    "for cb in checkboxes:\n",
    "    cb.observe(check_all, names='value')\n",
    "\n",
    "# Display the checkboxes and output message\n",
    "display(widgets.VBox(checkboxes))\n",
    "display(output_msg)\n",
    "\n"
   ]
  },
  {
   "cell_type": "markdown",
   "id": "a12b88b2",
   "metadata": {},
   "source": [
    "#### 📝 **Final MCQ Quiz**\n",
    "\n",
    "Click below to take the quiz:\n",
    "\n",
    "[👉 Take the Quiz](https://docs.google.com/forms/d/e/1FAIpQLSc12xjhGMeFHk0rOcYAyGVrjsNdBwn6hxYov9U33duuzc-SFg/viewform?usp=dialog)\n"
   ]
  }
 ],
 "metadata": {
  "kernelspec": {
   "display_name": "Python 3",
   "language": "python",
   "name": "python3"
  },
  "language_info": {
   "codemirror_mode": {
    "name": "ipython",
    "version": 3
   },
   "file_extension": ".py",
   "mimetype": "text/x-python",
   "name": "python",
   "nbconvert_exporter": "python",
   "pygments_lexer": "ipython3",
   "version": "3.13.6"
  }
 },
 "nbformat": 4,
 "nbformat_minor": 5
}
